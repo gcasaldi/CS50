{
  "nbformat": 4,
  "nbformat_minor": 0,
  "metadata": {
    "colab": {
      "provenance": [],
      "authorship_tag": "ABX9TyOYqe1B8vbk9MiaSciK5nM2",
      "include_colab_link": true
    },
    "kernelspec": {
      "name": "python3",
      "display_name": "Python 3"
    },
    "language_info": {
      "name": "python"
    }
  },
  "cells": [
    {
      "cell_type": "markdown",
      "metadata": {
        "id": "view-in-github",
        "colab_type": "text"
      },
      "source": [
        "<a href=\"https://colab.research.google.com/github/gcasaldi/CS50/blob/main/Copia_di_Untitledverso2.ipynb\" target=\"_parent\"><img src=\"https://colab.research.google.com/assets/colab-badge.svg\" alt=\"Open In Colab\"/></a>"
      ]
    },
    {
      "cell_type": "code",
      "execution_count": null,
      "metadata": {
        "id": "ZIYSD0vpH-HQ"
      },
      "outputs": [],
      "source": [
        "# prompt: importa librerie\n",
        "\n",
        "import pandas as pd\n",
        "import numpy as np\n",
        "import matplotlib.pyplot as plt\n",
        "import seaborn as sns\n",
        "from sklearn.model_selection import train_test_split\n",
        "from sklearn.linear_model import LinearRegression\n",
        "from sklearn.metrics import mean_squared_error, r2_score\n",
        "from sklearn.preprocessing import StandardScaler\n",
        "\n"
      ]
    },
    {
      "cell_type": "code",
      "source": [
        "import pandas as pd\n",
        "import numpy as np\n",
        "import matplotlib.pyplot as plt\n",
        "import seaborn as sns\n",
        "from sklearn.model_selection import train_test_split\n",
        "from sklearn.linear_model import LinearRegression\n",
        "from sklearn.metrics import mean_squared_error, r2_score\n",
        "from sklearn.preprocessing import StandardScaler\n",
        "\n",
        "from google.colab import files\n",
        "uploaded = files.upload()\n",
        "\n",
        "for fn in uploaded.keys():\n",
        "    print('User  uploaded file \"{name}\" with length {length} bytes'.format(\n",
        "        name=fn, length=len(uploaded[fn])))\n",
        "\n",
        "# Use the correct filename from the uploaded files\n",
        "filename = 'db superenalotto.txt'  # This is the correct filename\n",
        "\n",
        "try:\n",
        "    df = pd.read_csv(filename, sep='\\t')  # Adjust the separator if necessary\n",
        "    print(df.head())\n",
        "except FileNotFoundError:\n",
        "    print(f\"Error: File '{filename}' not found. Please upload the correct file.\")\n",
        "except pd.errors.ParserError:\n",
        "    print(\"Error: Could not parse the file. Please check the file format.\")"
      ],
      "metadata": {
        "colab": {
          "base_uri": "https://localhost:8080/",
          "height": 201
        },
        "id": "XN_QEg8RIRbA",
        "outputId": "eb649377-4e39-4302-881b-8d266291992b"
      },
      "execution_count": null,
      "outputs": [
        {
          "output_type": "display_data",
          "data": {
            "text/plain": [
              "<IPython.core.display.HTML object>"
            ],
            "text/html": [
              "\n",
              "     <input type=\"file\" id=\"files-5948c8cc-17f6-4eb0-9448-4abf3ef7a494\" name=\"files[]\" multiple disabled\n",
              "        style=\"border:none\" />\n",
              "     <output id=\"result-5948c8cc-17f6-4eb0-9448-4abf3ef7a494\">\n",
              "      Upload widget is only available when the cell has been executed in the\n",
              "      current browser session. Please rerun this cell to enable.\n",
              "      </output>\n",
              "      <script>// Copyright 2017 Google LLC\n",
              "//\n",
              "// Licensed under the Apache License, Version 2.0 (the \"License\");\n",
              "// you may not use this file except in compliance with the License.\n",
              "// You may obtain a copy of the License at\n",
              "//\n",
              "//      http://www.apache.org/licenses/LICENSE-2.0\n",
              "//\n",
              "// Unless required by applicable law or agreed to in writing, software\n",
              "// distributed under the License is distributed on an \"AS IS\" BASIS,\n",
              "// WITHOUT WARRANTIES OR CONDITIONS OF ANY KIND, either express or implied.\n",
              "// See the License for the specific language governing permissions and\n",
              "// limitations under the License.\n",
              "\n",
              "/**\n",
              " * @fileoverview Helpers for google.colab Python module.\n",
              " */\n",
              "(function(scope) {\n",
              "function span(text, styleAttributes = {}) {\n",
              "  const element = document.createElement('span');\n",
              "  element.textContent = text;\n",
              "  for (const key of Object.keys(styleAttributes)) {\n",
              "    element.style[key] = styleAttributes[key];\n",
              "  }\n",
              "  return element;\n",
              "}\n",
              "\n",
              "// Max number of bytes which will be uploaded at a time.\n",
              "const MAX_PAYLOAD_SIZE = 100 * 1024;\n",
              "\n",
              "function _uploadFiles(inputId, outputId) {\n",
              "  const steps = uploadFilesStep(inputId, outputId);\n",
              "  const outputElement = document.getElementById(outputId);\n",
              "  // Cache steps on the outputElement to make it available for the next call\n",
              "  // to uploadFilesContinue from Python.\n",
              "  outputElement.steps = steps;\n",
              "\n",
              "  return _uploadFilesContinue(outputId);\n",
              "}\n",
              "\n",
              "// This is roughly an async generator (not supported in the browser yet),\n",
              "// where there are multiple asynchronous steps and the Python side is going\n",
              "// to poll for completion of each step.\n",
              "// This uses a Promise to block the python side on completion of each step,\n",
              "// then passes the result of the previous step as the input to the next step.\n",
              "function _uploadFilesContinue(outputId) {\n",
              "  const outputElement = document.getElementById(outputId);\n",
              "  const steps = outputElement.steps;\n",
              "\n",
              "  const next = steps.next(outputElement.lastPromiseValue);\n",
              "  return Promise.resolve(next.value.promise).then((value) => {\n",
              "    // Cache the last promise value to make it available to the next\n",
              "    // step of the generator.\n",
              "    outputElement.lastPromiseValue = value;\n",
              "    return next.value.response;\n",
              "  });\n",
              "}\n",
              "\n",
              "/**\n",
              " * Generator function which is called between each async step of the upload\n",
              " * process.\n",
              " * @param {string} inputId Element ID of the input file picker element.\n",
              " * @param {string} outputId Element ID of the output display.\n",
              " * @return {!Iterable<!Object>} Iterable of next steps.\n",
              " */\n",
              "function* uploadFilesStep(inputId, outputId) {\n",
              "  const inputElement = document.getElementById(inputId);\n",
              "  inputElement.disabled = false;\n",
              "\n",
              "  const outputElement = document.getElementById(outputId);\n",
              "  outputElement.innerHTML = '';\n",
              "\n",
              "  const pickedPromise = new Promise((resolve) => {\n",
              "    inputElement.addEventListener('change', (e) => {\n",
              "      resolve(e.target.files);\n",
              "    });\n",
              "  });\n",
              "\n",
              "  const cancel = document.createElement('button');\n",
              "  inputElement.parentElement.appendChild(cancel);\n",
              "  cancel.textContent = 'Cancel upload';\n",
              "  const cancelPromise = new Promise((resolve) => {\n",
              "    cancel.onclick = () => {\n",
              "      resolve(null);\n",
              "    };\n",
              "  });\n",
              "\n",
              "  // Wait for the user to pick the files.\n",
              "  const files = yield {\n",
              "    promise: Promise.race([pickedPromise, cancelPromise]),\n",
              "    response: {\n",
              "      action: 'starting',\n",
              "    }\n",
              "  };\n",
              "\n",
              "  cancel.remove();\n",
              "\n",
              "  // Disable the input element since further picks are not allowed.\n",
              "  inputElement.disabled = true;\n",
              "\n",
              "  if (!files) {\n",
              "    return {\n",
              "      response: {\n",
              "        action: 'complete',\n",
              "      }\n",
              "    };\n",
              "  }\n",
              "\n",
              "  for (const file of files) {\n",
              "    const li = document.createElement('li');\n",
              "    li.append(span(file.name, {fontWeight: 'bold'}));\n",
              "    li.append(span(\n",
              "        `(${file.type || 'n/a'}) - ${file.size} bytes, ` +\n",
              "        `last modified: ${\n",
              "            file.lastModifiedDate ? file.lastModifiedDate.toLocaleDateString() :\n",
              "                                    'n/a'} - `));\n",
              "    const percent = span('0% done');\n",
              "    li.appendChild(percent);\n",
              "\n",
              "    outputElement.appendChild(li);\n",
              "\n",
              "    const fileDataPromise = new Promise((resolve) => {\n",
              "      const reader = new FileReader();\n",
              "      reader.onload = (e) => {\n",
              "        resolve(e.target.result);\n",
              "      };\n",
              "      reader.readAsArrayBuffer(file);\n",
              "    });\n",
              "    // Wait for the data to be ready.\n",
              "    let fileData = yield {\n",
              "      promise: fileDataPromise,\n",
              "      response: {\n",
              "        action: 'continue',\n",
              "      }\n",
              "    };\n",
              "\n",
              "    // Use a chunked sending to avoid message size limits. See b/62115660.\n",
              "    let position = 0;\n",
              "    do {\n",
              "      const length = Math.min(fileData.byteLength - position, MAX_PAYLOAD_SIZE);\n",
              "      const chunk = new Uint8Array(fileData, position, length);\n",
              "      position += length;\n",
              "\n",
              "      const base64 = btoa(String.fromCharCode.apply(null, chunk));\n",
              "      yield {\n",
              "        response: {\n",
              "          action: 'append',\n",
              "          file: file.name,\n",
              "          data: base64,\n",
              "        },\n",
              "      };\n",
              "\n",
              "      let percentDone = fileData.byteLength === 0 ?\n",
              "          100 :\n",
              "          Math.round((position / fileData.byteLength) * 100);\n",
              "      percent.textContent = `${percentDone}% done`;\n",
              "\n",
              "    } while (position < fileData.byteLength);\n",
              "  }\n",
              "\n",
              "  // All done.\n",
              "  yield {\n",
              "    response: {\n",
              "      action: 'complete',\n",
              "    }\n",
              "  };\n",
              "}\n",
              "\n",
              "scope.google = scope.google || {};\n",
              "scope.google.colab = scope.google.colab || {};\n",
              "scope.google.colab._files = {\n",
              "  _uploadFiles,\n",
              "  _uploadFilesContinue,\n",
              "};\n",
              "})(self);\n",
              "</script> "
            ]
          },
          "metadata": {}
        },
        {
          "output_type": "stream",
          "name": "stdout",
          "text": [
            "Saving db superenalotto.txt to db superenalotto (1).txt\n",
            "User  uploaded file \"db superenalotto (1).txt\" with length 16220 bytes\n",
            "  2025   1°  2°  3°  4°  5°  6° - Jolly  - Superstar   Conc.\n",
            "0  02 gen  19  21  29  74  77  88     07         ...        \n",
            "1  03 gen  13  30  43  49  74  89     04         ...        \n",
            "2  04 gen  31  42  43  63  83  86     37         ...        \n",
            "3  07 gen  07  10  11  29  32  87     34         ...        \n",
            "4  09 gen  15  33  40  71  74  82     89         ...        \n"
          ]
        }
      ]
    },
    {
      "cell_type": "markdown",
      "source": [
        "Data Cleaning"
      ],
      "metadata": {
        "id": "TRHxmzbkJKxX"
      }
    },
    {
      "cell_type": "code",
      "source": [
        "# Check for missing values\n",
        "print(df.head(10))  # Print the first 10 rows to inspect the data"
      ],
      "metadata": {
        "colab": {
          "base_uri": "https://localhost:8080/"
        },
        "id": "lnKqxdrJJO__",
        "outputId": "85fc16bd-d480-413f-e533-d65e1a331750"
      },
      "execution_count": null,
      "outputs": [
        {
          "output_type": "stream",
          "name": "stdout",
          "text": [
            "  2025   1°  2°  3°  4°  5°  6° - Jolly  - Superstar   Conc.\n",
            "0  02 gen  19  21  29  74  77  88     07         ...        \n",
            "1  03 gen  13  30  43  49  74  89     04         ...        \n",
            "2  04 gen  31  42  43  63  83  86     37         ...        \n",
            "3  07 gen  07  10  11  29  32  87     34         ...        \n",
            "4  09 gen  15  33  40  71  74  82     89         ...        \n",
            "5  10 gen  19  25  33  49  57  72     46         ...        \n",
            "6  11 gen  05  06  11  22  35  85     30         ...        \n",
            "7  14 gen  04  15  17  40  64  75     23         ...        \n",
            "8  16 gen  31  38  59  69  72  88     64         ...        \n",
            "9  17 gen  08  12  15  40  66  89     07         ...        \n"
          ]
        }
      ]
    },
    {
      "cell_type": "markdown",
      "source": [
        "Check Column Names"
      ],
      "metadata": {
        "id": "NvL1reOKJTgn"
      }
    },
    {
      "cell_type": "code",
      "source": [
        "print(df.columns)  # Print the column names"
      ],
      "metadata": {
        "colab": {
          "base_uri": "https://localhost:8080/"
        },
        "id": "8US-e5E2JV9f",
        "outputId": "bef382f0-e87f-4242-860c-ddcb9f33db8f"
      },
      "execution_count": null,
      "outputs": [
        {
          "output_type": "stream",
          "name": "stdout",
          "text": [
            "Index([' 2025   1°  2°  3°  4°  5°  6° - Jolly  - Superstar   Conc.'], dtype='object')\n"
          ]
        }
      ]
    },
    {
      "cell_type": "markdown",
      "source": [
        "provo ad allenare"
      ],
      "metadata": {
        "id": "VJBgM_qsLTPf"
      }
    },
    {
      "cell_type": "code",
      "source": [
        "from sklearn.ensemble import RandomForestClassifier\n",
        "\n",
        "# Initialize the model\n",
        "model = RandomForestClassifier(n_estimators=100)"
      ],
      "metadata": {
        "id": "O3fMOTuPLU3X"
      },
      "execution_count": null,
      "outputs": []
    },
    {
      "cell_type": "code",
      "source": [
        "from sklearn.metrics import accuracy_score\n",
        "\n",
        "# Calculate accuracy for each number\n",
        "accuracies = []\n",
        "for i in range(y_test.shape[1]):  # Loop through each output column\n",
        "    acc = accuracy_score(y_test[:, i], predictions[:, i])\n",
        "    accuracies.append(acc)\n",
        "\n",
        "# Average accuracy\n",
        "average_accuracy = np.mean(accuracies)\n",
        "print(f'Average Accuracy: {average_accuracy:.2f}')\n",
        "\n",
        "# Print individual accuracies\n",
        "for i, acc in enumerate(accuracies):\n",
        "    print(f'Accuracy for N{i+1}: {acc:.2f}')"
      ],
      "metadata": {
        "colab": {
          "base_uri": "https://localhost:8080/"
        },
        "id": "6Sj2SCKzLWso",
        "outputId": "d146b04f-0e0f-4a37-a55c-1f8ce2a3a18f"
      },
      "execution_count": null,
      "outputs": [
        {
          "output_type": "stream",
          "name": "stdout",
          "text": [
            "Average Accuracy: 0.02\n",
            "Accuracy for N1: 0.04\n",
            "Accuracy for N2: 0.00\n",
            "Accuracy for N3: 0.00\n",
            "Accuracy for N4: 0.00\n",
            "Accuracy for N5: 0.00\n",
            "Accuracy for N6: 0.08\n"
          ]
        }
      ]
    },
    {
      "cell_type": "code",
      "source": [
        "import pandas as pd\n",
        "import numpy as np\n",
        "import re\n",
        "from sklearn.model_selection import train_test_split\n",
        "from sklearn.ensemble import RandomForestClassifier\n",
        "from sklearn.metrics import accuracy_score\n",
        "\n",
        "# Step 1: Load the data\n",
        "file_path = \"/content/db superenalotto (1).txt\"\n",
        "\n",
        "# Read the file\n",
        "with open(file_path, \"r\", encoding=\"utf-8\") as file:\n",
        "    lines = file.readlines()\n",
        "\n",
        "# Step 2: Extract numbers using regex\n",
        "draws = []\n",
        "pattern = re.compile(r\"(\\d+)\\s+(\\d+)\\s+(\\d+)\\s+(\\d+)\\s+(\\d+)\\s+(\\d+)\")\n",
        "for line in lines:\n",
        "    match = pattern.search(line)\n",
        "    if match:\n",
        "        numbers = list(map(int, match.groups()))\n",
        "        draws.append(numbers)\n",
        "\n",
        "# Step 3: Create DataFrame\n",
        "df = pd.DataFrame(draws, columns=[\"N1\", \"N2\", \"N3\", \"N4\", \"N5\", \"N6\"])\n",
        "\n",
        "# Step 4: Prepare features and target variable\n",
        "X = []\n",
        "y = []\n",
        "\n",
        "# Create features and target\n",
        "for i in range(len(df) - 1):\n",
        "    X.append(df.iloc[i].values)  # Previous draw numbers\n",
        "    y.append(df.iloc[i + 1].values)  # Next draw numbers\n",
        "\n",
        "X = np.array(X)\n",
        "y = np.array(y)\n",
        "\n",
        "# Step 5: Split the data\n",
        "X_train, X_test, y_train, y_test = train_test_split(X, y, test_size=0.2, random_state=42)\n",
        "\n",
        "# Step 6: Train the model\n",
        "model = RandomForestClassifier(n_estimators=100)\n",
        "model.fit(X_train, y_train)\n",
        "\n",
        "# Step 7: Make predictions\n",
        "predictions = model.predict(X_test)\n",
        "\n",
        "# Step 8: Calculate accuracy for each number\n",
        "accuracies = []\n",
        "for i in range(y_test.shape[1]):  # Loop through each output column\n",
        "    acc = accuracy_score(y_test[:, i], predictions[:, i])\n",
        "    accuracies.append(acc)\n",
        "\n",
        "# Average accuracy\n",
        "average_accuracy = np.mean(accuracies)\n",
        "print(f'Average Accuracy: {average_accuracy:.2f}')\n",
        "\n",
        "# Print individual accuracies\n",
        "for i, acc in enumerate(accuracies):\n",
        "    print(f'Accuracy for N{i+1}: {acc:.2f}')"
      ],
      "metadata": {
        "colab": {
          "base_uri": "https://localhost:8080/"
        },
        "id": "5YrweM_yL54A",
        "outputId": "d50ff477-0cd7-4431-e0cd-31b63bd8ea6a"
      },
      "execution_count": null,
      "outputs": [
        {
          "output_type": "stream",
          "name": "stdout",
          "text": [
            "Average Accuracy: 0.02\n",
            "Accuracy for N1: 0.02\n",
            "Accuracy for N2: 0.02\n",
            "Accuracy for N3: 0.00\n",
            "Accuracy for N4: 0.02\n",
            "Accuracy for N5: 0.00\n",
            "Accuracy for N6: 0.06\n"
          ]
        }
      ]
    },
    {
      "cell_type": "code",
      "source": [
        "import pandas as pd\n",
        "import numpy as np\n",
        "import re\n",
        "import matplotlib.pyplot as plt\n",
        "\n",
        "# Step 1: Load the data\n",
        "file_path = \"/content/db superenalotto (1).txt\"\n",
        "\n",
        "# Read the file\n",
        "with open(file_path, \"r\", encoding=\"utf-8\") as file:\n",
        "    lines = file.readlines()\n",
        "\n",
        "# Step 2: Extract numbers using regex\n",
        "draws = []\n",
        "pattern = re.compile(r\"(\\d+)\\s+(\\d+)\\s+(\\d+)\\s+(\\d+)\\s+(\\d+)\\s+(\\d+)\")\n",
        "for line in lines:\n",
        "    match = pattern.search(line)\n",
        "    if match:\n",
        "        numbers = list(map(int, match.groups()))\n",
        "        draws.append(numbers)\n",
        "\n",
        "# Step 3: Create DataFrame\n",
        "df = pd.DataFrame(draws, columns=[\"N1\", \"N2\", \"N3\", \"N4\", \"N5\", \"N6\"])\n",
        "\n",
        "# Step 4: Calculate frequency of each number\n",
        "all_numbers = df.values.flatten()\n",
        "unique, counts = np.unique(all_numbers, return_counts=True)\n",
        "frequency = dict(zip(unique, counts))\n",
        "\n",
        "# Convert frequency dictionary to DataFrame for easier manipulation\n",
        "frequency_df = pd.DataFrame(list(frequency.items()), columns=['Number', 'Frequency'])\n",
        "\n",
        "# Step 5: Identify most and least frequent numbers\n",
        "most_frequent = frequency_df.nlargest(6, 'Frequency')\n",
        "least_frequent = frequency_df.nsmallest(6, 'Frequency')\n",
        "\n",
        "# Step 6: Calculate descriptive statistics\n",
        "mean = np.mean(all_numbers)\n",
        "median = np.median(all_numbers)\n",
        "mode = frequency_df.loc[frequency_df['Frequency'] == frequency_df['Frequency'].max()]\n",
        "\n",
        "# Step 7: Print results\n",
        "print(\"Most Frequent Numbers:\")\n",
        "print(most_frequent)\n",
        "\n",
        "print(\"\\nLeast Frequent Numbers:\")\n",
        "print(least_frequent)\n",
        "\n",
        "print(f\"\\nMean: {mean:.2f}\")\n",
        "print(f\"Median: {median:.2f}\")\n",
        "print(f\"Mode: {mode['Number'].values} (Frequency: {mode['Frequency'].values})\")\n",
        "\n",
        "# Step 8: Visualize the frequency of numbers\n",
        "plt.figure(figsize=(12, 6))\n",
        "plt.bar(frequency_df['Number'], frequency_df['Frequency'], color='blue')\n",
        "plt.title('Frequency of Lottery Numbers')\n",
        "plt.xlabel('Number')\n",
        "plt.ylabel('Frequency')\n",
        "plt.xticks(range(1, 91))  # Assuming numbers range from 1 to 90\n",
        "plt.grid(axis='y')\n",
        "plt.show()\n",
        "\n",
        "# Step 9: Final Prediction based on most frequent numbers\n",
        "predicted_numbers = most_frequent['Number'].values\n",
        "print(\"\\nPredicted Next Draw Numbers:\", predicted_numbers)"
      ],
      "metadata": {
        "colab": {
          "base_uri": "https://localhost:8080/",
          "height": 877
        },
        "id": "CMcu7RvFMRIH",
        "outputId": "7aa75733-9cd1-44f0-f806-86825d807491"
      },
      "execution_count": null,
      "outputs": [
        {
          "output_type": "stream",
          "name": "stdout",
          "text": [
            "Most Frequent Numbers:\n",
            "    Number  Frequency\n",
            "84      85         27\n",
            "22      23         26\n",
            "42      43         25\n",
            "33      34         24\n",
            "12      13         23\n",
            "71      72         23\n",
            "\n",
            "Least Frequent Numbers:\n",
            "    Number  Frequency\n",
            "11      12          8\n",
            "36      37         10\n",
            "37      38         10\n",
            "64      65         10\n",
            "8        9         11\n",
            "55      56         11\n",
            "\n",
            "Mean: 45.94\n",
            "Median: 46.00\n",
            "Mode: [85] (Frequency: [27])\n"
          ]
        },
        {
          "output_type": "display_data",
          "data": {
            "text/plain": [
              "<Figure size 1200x600 with 1 Axes>"
            ],
            "image/png": "[encoded data removed]"
          },
          "metadata": {}
        },
        {
          "output_type": "stream",
          "name": "stdout",
          "text": [
            "\n",
            "Predicted Next Draw Numbers: [85 23 43 34 13 72]\n"
          ]
        }
      ]
    },
    {
      "cell_type": "code",
      "source": [
        "import pandas as pd\n",
        "import numpy as np\n",
        "\n",
        "# Caricamento del file\n",
        "file_path = \"/content/db superenalotto (1).txt\"\n",
        "\n",
        "# Lettura del file\n",
        "with open(file_path, \"r\", encoding=\"utf-8\") as file:\n",
        "    lines = file.readlines()\n",
        "\n",
        "# Estrazione dei numeri dalle righe\n",
        "draws = []\n",
        "for line in lines:\n",
        "    parts = line.strip().split()\n",
        "    if len(parts) >= 9:  # Deve contenere almeno i sei numeri principali, Jolly e Superstar\n",
        "        try:\n",
        "            numbers = list(map(int, parts[1:7]))  # I primi 6 numeri principali\n",
        "            draws.append(numbers)\n",
        "        except ValueError:\n",
        "            continue  # Salta righe che non contengono numeri validi\n",
        "\n",
        "# Creazione DataFrame\n",
        "df = pd.DataFrame(draws, columns=[\"N1\", \"N2\", \"N3\", \"N4\", \"N5\", \"N6\"])\n",
        "\n",
        "# Calcolo della frequenza di ciascun numero\n",
        "all_numbers = df.values.flatten()\n",
        "unique, counts = np.unique(all_numbers, return_counts=True)\n",
        "number_freq = dict(zip(unique, counts))\n",
        "\n",
        "# Selezione dei 6 numeri più frequenti\n",
        "predicted_numbers = sorted(number_freq, key=number_freq.get, reverse=True)[:6]\n",
        "predicted_numbers\n"
      ],
      "metadata": {
        "colab": {
          "base_uri": "https://localhost:8080/"
        },
        "id": "hygdld0cKQEq",
        "outputId": "586a0041-07d8-4749-c148-12793fb15c45"
      },
      "execution_count": null,
      "outputs": [
        {
          "output_type": "execute_result",
          "data": {
            "text/plain": [
              "[]"
            ]
          },
          "metadata": {},
          "execution_count": 19
        }
      ]
    },
    {
      "cell_type": "code",
      "source": [
        "import pandas as pd\n",
        "import numpy as np\n",
        "import re\n",
        "import matplotlib.pyplot as plt\n",
        "import seaborn as sns\n",
        "\n",
        "# Load the file\n",
        "file_path = \"/content/db superenalotto (1).txt\"\n",
        "\n",
        "# Read the file\n",
        "with open(file_path, \"r\", encoding=\"utf-8\") as file:\n",
        "    lines = file.readlines()\n",
        "\n",
        "# Extract numbers using regex\n",
        "draws = []\n",
        "pattern = re.compile(r\"(\\d+)\\s+(\\d+)\\s+(\\d+)\\s+(\\d+)\\s+(\\d+)\\s+(\\d+)\")\n",
        "for line in lines:\n",
        "    match = pattern.search(line)\n",
        "    if match:\n",
        "        numbers = list(map(int, match.groups()))\n",
        "        draws.append(numbers)\n",
        "\n",
        "# Create DataFrame\n",
        "df = pd.DataFrame(draws, columns=[\"N1\", \"N2\", \"N3\", \"N4\", \"N5\", \"N6\"])\n",
        "\n",
        "# Calculate frequency of each number\n",
        "all_numbers = df.values.flatten()\n",
        "unique, counts = np.unique(all_numbers, return_counts=True)\n",
        "number_freq = dict(zip(unique, counts))\n",
        "\n",
        "# Select the 6 most frequent numbers\n",
        "predicted_numbers = sorted(number_freq, key=number_freq.get, reverse=True)[:6]\n",
        "\n",
        "# Visualization of number frequency\n",
        "plt.figure(figsize=(10, 6))\n",
        "sns.histplot(all_numbers, bins=90, kde=False)\n",
        "plt.title('Frequency of Lottery Numbers')\n",
        "plt.xlabel('Number')\n",
        "plt.ylabel('Frequency')\n",
        "plt.xticks(range(1, 91))  # Adjust based on the range of lottery numbers\n",
        "plt.show()\n",
        "\n",
        "# Print predicted numbers\n",
        "print(\"Predicted Numbers:\", predicted_numbers)\n",
        "\n",
        "# Additional analysis: Hot and Cold Numbers\n",
        "hot_numbers = sorted(number_freq.items(), key=lambda x: x[1], reverse=True)[:6]\n",
        "cold_numbers = sorted(number_freq.items(), key=lambda x: x[1])[:6]\n",
        "\n",
        "print(\"Hot Numbers:\", [num for num, freq in hot_numbers])\n",
        "print(\"Cold Numbers:\", [num for num, freq in cold_numbers])"
      ],
      "metadata": {
        "colab": {
          "base_uri": "https://localhost:8080/",
          "height": 592
        },
        "id": "ha-N7lgBKh2i",
        "outputId": "908e8e93-7953-4b86-c281-71be4f1519b5"
      },
      "execution_count": null,
      "outputs": [
        {
          "output_type": "display_data",
          "data": {
            "text/plain": [
              "<Figure size 1000x600 with 1 Axes>"
            ],
            "image/png": "[encoded data removed]"
          },
          "metadata": {}
        },
        {
          "output_type": "stream",
          "name": "stdout",
          "text": [
            "Predicted Numbers: [85, 23, 43, 34, 13, 72]\n",
            "Hot Numbers: [85, 23, 43, 34, 13, 72]\n",
            "Cold Numbers: [12, 37, 38, 65, 9, 56]\n"
          ]
        }
      ]
    }
  ]
}