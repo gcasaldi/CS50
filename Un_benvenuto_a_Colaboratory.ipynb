{
  "cells": [
    {
      "cell_type": "markdown",
      "metadata": {
        "id": "view-in-github",
        "colab_type": "text"
      },
      "source": [
        "<a href=\"https://colab.research.google.com/github/gcasaldi/CS50/blob/main/Un_benvenuto_a_Colaboratory.ipynb\" target=\"_parent\"><img src=\"https://colab.research.google.com/assets/colab-badge.svg\" alt=\"Open In Colab\"/></a>"
      ]
    },
    {
      "cell_type": "code",
      "execution_count": null,
      "metadata": {
        "id": "zwFnJsE6vjf8"
      },
      "outputs": [],
      "source": []
    },
    {
      "cell_type": "code",
      "source": [
        "!pip install openpyxl\n",
        "import pandas as pd\n",
        "from datetime import datetime, timedelta\n",
        "\n",
        "\n",
        "\n",
        "\n",
        "\n",
        "\n",
        "\n",
        "\n"
      ],
      "metadata": {
        "colab": {
          "base_uri": "https://localhost:8080/"
        },
        "id": "QxjvmwmCz0_A",
        "outputId": "8b5501f3-50f5-4e13-b45f-be6e5edd818a"
      },
      "execution_count": 2,
      "outputs": [
        {
          "output_type": "stream",
          "name": "stdout",
          "text": [
            "Requirement already satisfied: openpyxl in /usr/local/lib/python3.11/dist-packages (3.1.5)\n",
            "Requirement already satisfied: et-xmlfile in /usr/local/lib/python3.11/dist-packages (from openpyxl) (2.0.0)\n"
          ]
        }
      ]
    },
    {
      "cell_type": "code",
      "source": [
        "from google.colab import files\n",
        "\n",
        "# Carica il file Excel\n",
        "uploaded = files.upload()\n",
        "file_name = 'it-lotto-past-draws-archive.xls'"
      ],
      "metadata": {
        "colab": {
          "base_uri": "https://localhost:8080/",
          "height": 73
        },
        "id": "sFMaxuYL3RMt",
        "outputId": "72ce682f-ea4d-4c88-f08e-8cfd65a908a0"
      },
      "execution_count": 23,
      "outputs": [
        {
          "output_type": "display_data",
          "data": {
            "text/plain": [
              "<IPython.core.display.HTML object>"
            ],
            "text/html": [
              "\n",
              "     <input type=\"file\" id=\"files-50a348be-a553-4377-95ec-43497e5ad2e0\" name=\"files[]\" multiple disabled\n",
              "        style=\"border:none\" />\n",
              "     <output id=\"result-50a348be-a553-4377-95ec-43497e5ad2e0\">\n",
              "      Upload widget is only available when the cell has been executed in the\n",
              "      current browser session. Please rerun this cell to enable.\n",
              "      </output>\n",
              "      <script>// Copyright 2017 Google LLC\n",
              "//\n",
              "// Licensed under the Apache License, Version 2.0 (the \"License\");\n",
              "// you may not use this file except in compliance with the License.\n",
              "// You may obtain a copy of the License at\n",
              "//\n",
              "//      http://www.apache.org/licenses/LICENSE-2.0\n",
              "//\n",
              "// Unless required by applicable law or agreed to in writing, software\n",
              "// distributed under the License is distributed on an \"AS IS\" BASIS,\n",
              "// WITHOUT WARRANTIES OR CONDITIONS OF ANY KIND, either express or implied.\n",
              "// See the License for the specific language governing permissions and\n",
              "// limitations under the License.\n",
              "\n",
              "/**\n",
              " * @fileoverview Helpers for google.colab Python module.\n",
              " */\n",
              "(function(scope) {\n",
              "function span(text, styleAttributes = {}) {\n",
              "  const element = document.createElement('span');\n",
              "  element.textContent = text;\n",
              "  for (const key of Object.keys(styleAttributes)) {\n",
              "    element.style[key] = styleAttributes[key];\n",
              "  }\n",
              "  return element;\n",
              "}\n",
              "\n",
              "// Max number of bytes which will be uploaded at a time.\n",
              "const MAX_PAYLOAD_SIZE = 100 * 1024;\n",
              "\n",
              "function _uploadFiles(inputId, outputId) {\n",
              "  const steps = uploadFilesStep(inputId, outputId);\n",
              "  const outputElement = document.getElementById(outputId);\n",
              "  // Cache steps on the outputElement to make it available for the next call\n",
              "  // to uploadFilesContinue from Python.\n",
              "  outputElement.steps = steps;\n",
              "\n",
              "  return _uploadFilesContinue(outputId);\n",
              "}\n",
              "\n",
              "// This is roughly an async generator (not supported in the browser yet),\n",
              "// where there are multiple asynchronous steps and the Python side is going\n",
              "// to poll for completion of each step.\n",
              "// This uses a Promise to block the python side on completion of each step,\n",
              "// then passes the result of the previous step as the input to the next step.\n",
              "function _uploadFilesContinue(outputId) {\n",
              "  const outputElement = document.getElementById(outputId);\n",
              "  const steps = outputElement.steps;\n",
              "\n",
              "  const next = steps.next(outputElement.lastPromiseValue);\n",
              "  return Promise.resolve(next.value.promise).then((value) => {\n",
              "    // Cache the last promise value to make it available to the next\n",
              "    // step of the generator.\n",
              "    outputElement.lastPromiseValue = value;\n",
              "    return next.value.response;\n",
              "  });\n",
              "}\n",
              "\n",
              "/**\n",
              " * Generator function which is called between each async step of the upload\n",
              " * process.\n",
              " * @param {string} inputId Element ID of the input file picker element.\n",
              " * @param {string} outputId Element ID of the output display.\n",
              " * @return {!Iterable<!Object>} Iterable of next steps.\n",
              " */\n",
              "function* uploadFilesStep(inputId, outputId) {\n",
              "  const inputElement = document.getElementById(inputId);\n",
              "  inputElement.disabled = false;\n",
              "\n",
              "  const outputElement = document.getElementById(outputId);\n",
              "  outputElement.innerHTML = '';\n",
              "\n",
              "  const pickedPromise = new Promise((resolve) => {\n",
              "    inputElement.addEventListener('change', (e) => {\n",
              "      resolve(e.target.files);\n",
              "    });\n",
              "  });\n",
              "\n",
              "  const cancel = document.createElement('button');\n",
              "  inputElement.parentElement.appendChild(cancel);\n",
              "  cancel.textContent = 'Cancel upload';\n",
              "  const cancelPromise = new Promise((resolve) => {\n",
              "    cancel.onclick = () => {\n",
              "      resolve(null);\n",
              "    };\n",
              "  });\n",
              "\n",
              "  // Wait for the user to pick the files.\n",
              "  const files = yield {\n",
              "    promise: Promise.race([pickedPromise, cancelPromise]),\n",
              "    response: {\n",
              "      action: 'starting',\n",
              "    }\n",
              "  };\n",
              "\n",
              "  cancel.remove();\n",
              "\n",
              "  // Disable the input element since further picks are not allowed.\n",
              "  inputElement.disabled = true;\n",
              "\n",
              "  if (!files) {\n",
              "    return {\n",
              "      response: {\n",
              "        action: 'complete',\n",
              "      }\n",
              "    };\n",
              "  }\n",
              "\n",
              "  for (const file of files) {\n",
              "    const li = document.createElement('li');\n",
              "    li.append(span(file.name, {fontWeight: 'bold'}));\n",
              "    li.append(span(\n",
              "        `(${file.type || 'n/a'}) - ${file.size} bytes, ` +\n",
              "        `last modified: ${\n",
              "            file.lastModifiedDate ? file.lastModifiedDate.toLocaleDateString() :\n",
              "                                    'n/a'} - `));\n",
              "    const percent = span('0% done');\n",
              "    li.appendChild(percent);\n",
              "\n",
              "    outputElement.appendChild(li);\n",
              "\n",
              "    const fileDataPromise = new Promise((resolve) => {\n",
              "      const reader = new FileReader();\n",
              "      reader.onload = (e) => {\n",
              "        resolve(e.target.result);\n",
              "      };\n",
              "      reader.readAsArrayBuffer(file);\n",
              "    });\n",
              "    // Wait for the data to be ready.\n",
              "    let fileData = yield {\n",
              "      promise: fileDataPromise,\n",
              "      response: {\n",
              "        action: 'continue',\n",
              "      }\n",
              "    };\n",
              "\n",
              "    // Use a chunked sending to avoid message size limits. See b/62115660.\n",
              "    let position = 0;\n",
              "    do {\n",
              "      const length = Math.min(fileData.byteLength - position, MAX_PAYLOAD_SIZE);\n",
              "      const chunk = new Uint8Array(fileData, position, length);\n",
              "      position += length;\n",
              "\n",
              "      const base64 = btoa(String.fromCharCode.apply(null, chunk));\n",
              "      yield {\n",
              "        response: {\n",
              "          action: 'append',\n",
              "          file: file.name,\n",
              "          data: base64,\n",
              "        },\n",
              "      };\n",
              "\n",
              "      let percentDone = fileData.byteLength === 0 ?\n",
              "          100 :\n",
              "          Math.round((position / fileData.byteLength) * 100);\n",
              "      percent.textContent = `${percentDone}% done`;\n",
              "\n",
              "    } while (position < fileData.byteLength);\n",
              "  }\n",
              "\n",
              "  // All done.\n",
              "  yield {\n",
              "    response: {\n",
              "      action: 'complete',\n",
              "    }\n",
              "  };\n",
              "}\n",
              "\n",
              "scope.google = scope.google || {};\n",
              "scope.google.colab = scope.google.colab || {};\n",
              "scope.google.colab._files = {\n",
              "  _uploadFiles,\n",
              "  _uploadFilesContinue,\n",
              "};\n",
              "})(self);\n",
              "</script> "
            ]
          },
          "metadata": {}
        },
        {
          "output_type": "stream",
          "name": "stdout",
          "text": [
            "Saving it-lotto-past-draws-archive.xls to it-lotto-past-draws-archive.xls\n"
          ]
        }
      ]
    },
    {
      "cell_type": "code",
      "source": [
        "import pandas as pd\n",
        "\n",
        "file_path = '/content/it-lotto-past-draws-archive.xls'  # Percorso corretto del file\n",
        "\n",
        "try:\n",
        "    df = pd.read_excel(file_path, engine='xlrd')  # Usa 'xlrd' per file .xls\n",
        "    print(\"Excel caricato con successo!\")\n",
        "    print(df.head())\n",
        "except Exception as e:\n",
        "    print(f\"Errore: {e}\")\n",
        "\n",
        "\n"
      ],
      "metadata": {
        "colab": {
          "base_uri": "https://localhost:8080/"
        },
        "id": "Dcx1yUav6HPH",
        "outputId": "b4ea70b9-138a-4f11-f3e4-40a70040fe5c"
      },
      "execution_count": 25,
      "outputs": [
        {
          "output_type": "stream",
          "name": "stdout",
          "text": [
            "*** No CODEPAGE record, no encoding_override: will use 'iso-8859-1'\n",
            "Excel caricato con successo!\n",
            "                               4 Marzo 2025, Martedì Unnamed: 1  Unnamed: 2  \\\n",
            "0  Archivio estrazioni Gioco del Lotto Anno 2025 ...        NaN         NaN   \n",
            "1                                                NaN        NaN         NaN   \n",
            "2                                               DATE       Bari         NaN   \n",
            "3                                         2025-03-04         30        81.0   \n",
            "4                                         2025-03-01         80         6.0   \n",
            "\n",
            "   Unnamed: 3  Unnamed: 4  Unnamed: 5 Unnamed: 6  Unnamed: 7  Unnamed: 8  \\\n",
            "0         NaN         NaN         NaN        NaN         NaN         NaN   \n",
            "1         NaN         NaN         NaN        NaN         NaN         NaN   \n",
            "2         NaN         NaN         NaN   Cagliari         NaN         NaN   \n",
            "3         9.0        31.0        72.0         62         3.0        14.0   \n",
            "4        90.0        64.0        72.0         45        40.0        76.0   \n",
            "\n",
            "   Unnamed: 9  ...  Unnamed: 46 Unnamed: 47  Unnamed: 48  Unnamed: 49  \\\n",
            "0         NaN  ...          NaN         NaN          NaN          NaN   \n",
            "1         NaN  ...          NaN         NaN          NaN          NaN   \n",
            "2         NaN  ...      Venezia         NaN          NaN          NaN   \n",
            "3        90.0  ...            6        87.0         53.0         89.0   \n",
            "4        57.0  ...           26        47.0         87.0         10.0   \n",
            "\n",
            "   Unnamed: 50  Unnamed: 51 Unnamed: 52  Unnamed: 53  Unnamed: 54  Unnamed: 55  \n",
            "0          NaN          NaN         NaN          NaN          NaN          NaN  \n",
            "1          NaN          NaN         NaN          NaN          NaN          NaN  \n",
            "2          NaN    Nazionale         NaN          NaN          NaN          NaN  \n",
            "3         32.0           57        54.0         79.0         44.0         40.0  \n",
            "4         46.0           21        48.0          3.0         17.0         62.0  \n",
            "\n",
            "[5 rows x 56 columns]\n"
          ]
        }
      ]
    },
    {
      "cell_type": "code",
      "source": [
        "import pandas as pd\n",
        "import zipfile\n",
        "# Assicurati di avere openpyxl installato\n",
        "!pip install openpyxl\n",
        "\n",
        "import pandas as pd\n",
        "\n",
        "# Assicurati di avere openpyxl installato\n",
        "!pip install openpyxl\n",
        "\n",
        "# Leggi il file Excel in un DataFrame specificando l'engine\n",
        "try:\n",
        "    df = pd.read_excel('/content/it-lotto-past-draws-archive.xls', engine='xlrd')\n",
        "except ValueError as e:\n",
        "    print(f\"Errore durante la lettura del file: {e}\")\n",
        "    exit()\n",
        "\n",
        "# Controlla i nomi delle colonne\n",
        "print(\"Nomi delle colonne nel DataFrame:\", df.columns)\n",
        "\n",
        "# Seleziona le colonne rilevanti (sostituisci con i nomi delle colonne effettive)\n",
        "# Assicurati che le colonne selezionate siano quelle con i numeri estratti\n",
        "try:\n",
        "    numeri_estratti = df[['Colonna1', 'Colonna2', 'Colonna3', 'Colonna4', 'Colonna5']]\n",
        "except KeyError as e:\n",
        "    print(f\"Errore: una o più colonne non trovate: {e}\")\n",
        "    exit()\n",
        "    exit()\n",
        "\n",
        "# Controlla i nomi delle colonne\n",
        "print(\"Nomi delle colonne nel DataFrame:\", df.columns)\n",
        "\n",
        "# Seleziona le colonne rilevanti (sostituisci con i nomi delle colonne effettive)\n",
        "# Assicurati che le colonne selezionate siano quelle con i numeri estratti\n",
        "try:\n",
        "    numeri_estratti = df[['Colonna1', 'Colonna2', 'Colonna3', 'Colonna4', 'Colonna5']]\n",
        "except KeyError as e:\n",
        "    print(f\"Errore: una o più colonne non trovate: {e}\")\n",
        "    exit()"
      ],
      "metadata": {
        "colab": {
          "base_uri": "https://localhost:8080/"
        },
        "id": "ytwJNSqj3UXF",
        "outputId": "593281c9-61e5-4653-f99c-4b7752b9dbd0"
      },
      "execution_count": 27,
      "outputs": [
        {
          "output_type": "stream",
          "name": "stdout",
          "text": [
            "Requirement already satisfied: openpyxl in /usr/local/lib/python3.11/dist-packages (3.1.5)\n",
            "Requirement already satisfied: et-xmlfile in /usr/local/lib/python3.11/dist-packages (from openpyxl) (2.0.0)\n",
            "Requirement already satisfied: openpyxl in /usr/local/lib/python3.11/dist-packages (3.1.5)\n",
            "Requirement already satisfied: et-xmlfile in /usr/local/lib/python3.11/dist-packages (from openpyxl) (2.0.0)\n",
            "*** No CODEPAGE record, no encoding_override: will use 'iso-8859-1'\n",
            "Nomi delle colonne nel DataFrame: Index(['4 Marzo 2025, Martedì', 'Unnamed: 1', 'Unnamed: 2', 'Unnamed: 3',\n",
            "       'Unnamed: 4', 'Unnamed: 5', 'Unnamed: 6', 'Unnamed: 7', 'Unnamed: 8',\n",
            "       'Unnamed: 9', 'Unnamed: 10', 'Unnamed: 11', 'Unnamed: 12',\n",
            "       'Unnamed: 13', 'Unnamed: 14', 'Unnamed: 15', 'Unnamed: 16',\n",
            "       'Unnamed: 17', 'Unnamed: 18', 'Unnamed: 19', 'Unnamed: 20',\n",
            "       'Unnamed: 21', 'Unnamed: 22', 'Unnamed: 23', 'Unnamed: 24',\n",
            "       'Unnamed: 25', 'Unnamed: 26', 'Unnamed: 27', 'Unnamed: 28',\n",
            "       'Unnamed: 29', 'Unnamed: 30', 'Unnamed: 31', 'Unnamed: 32',\n",
            "       'Unnamed: 33', 'Unnamed: 34', 'Unnamed: 35', 'Unnamed: 36',\n",
            "       'Unnamed: 37', 'Unnamed: 38', 'Unnamed: 39', 'Unnamed: 40',\n",
            "       'Unnamed: 41', 'Unnamed: 42', 'Unnamed: 43', 'Unnamed: 44',\n",
            "       'Unnamed: 45', 'Unnamed: 46', 'Unnamed: 47', 'Unnamed: 48',\n",
            "       'Unnamed: 49', 'Unnamed: 50', 'Unnamed: 51', 'Unnamed: 52',\n",
            "       'Unnamed: 53', 'Unnamed: 54', 'Unnamed: 55'],\n",
            "      dtype='object')\n",
            "Errore: una o più colonne non trovate: \"None of [Index(['Colonna1', 'Colonna2', 'Colonna3', 'Colonna4', 'Colonna5'], dtype='object')] are in the [columns]\"\n",
            "Nomi delle colonne nel DataFrame: Index(['4 Marzo 2025, Martedì', 'Unnamed: 1', 'Unnamed: 2', 'Unnamed: 3',\n",
            "       'Unnamed: 4', 'Unnamed: 5', 'Unnamed: 6', 'Unnamed: 7', 'Unnamed: 8',\n",
            "       'Unnamed: 9', 'Unnamed: 10', 'Unnamed: 11', 'Unnamed: 12',\n",
            "       'Unnamed: 13', 'Unnamed: 14', 'Unnamed: 15', 'Unnamed: 16',\n",
            "       'Unnamed: 17', 'Unnamed: 18', 'Unnamed: 19', 'Unnamed: 20',\n",
            "       'Unnamed: 21', 'Unnamed: 22', 'Unnamed: 23', 'Unnamed: 24',\n",
            "       'Unnamed: 25', 'Unnamed: 26', 'Unnamed: 27', 'Unnamed: 28',\n",
            "       'Unnamed: 29', 'Unnamed: 30', 'Unnamed: 31', 'Unnamed: 32',\n",
            "       'Unnamed: 33', 'Unnamed: 34', 'Unnamed: 35', 'Unnamed: 36',\n",
            "       'Unnamed: 37', 'Unnamed: 38', 'Unnamed: 39', 'Unnamed: 40',\n",
            "       'Unnamed: 41', 'Unnamed: 42', 'Unnamed: 43', 'Unnamed: 44',\n",
            "       'Unnamed: 45', 'Unnamed: 46', 'Unnamed: 47', 'Unnamed: 48',\n",
            "       'Unnamed: 49', 'Unnamed: 50', 'Unnamed: 51', 'Unnamed: 52',\n",
            "       'Unnamed: 53', 'Unnamed: 54', 'Unnamed: 55'],\n",
            "      dtype='object')\n",
            "Errore: una o più colonne non trovate: \"None of [Index(['Colonna1', 'Colonna2', 'Colonna3', 'Colonna4', 'Colonna5'], dtype='object')] are in the [columns]\"\n"
          ]
        }
      ]
    },
    {
      "cell_type": "code",
      "source": [
        "\n",
        "import pandas as pd\n",
        "\n",
        "file_path = '/content/it-lotto-past-draws-archive.xls'  # Percorso corretto\n",
        "\n",
        "# Leggi il file Excel\n",
        "df = pd.read_excel(file_path, engine='xlrd', skiprows=1)\n",
        "\n",
        "# Seleziona solo le colonne numeriche\n",
        "numeri_estratti = df.select_dtypes(include='number').dropna(axis=1, how='all')\n",
        "\n",
        "# Conta la frequenza totale\n",
        "frequenze = numeri_estratti.stack().value_counts()\n",
        "numeri_frequenti = frequenze.head(5).index.tolist()\n",
        "\n",
        "# 🔥 Calcola i ritardatari\n",
        "numeri_totali = set(range(1, 91))  # Numeri da 1 a 90\n",
        "ultime_uscite = {}\n",
        "\n",
        "# Trova l'ultima uscita di ogni numero\n",
        "for numero in numeri_totali:\n",
        "    try:\n",
        "        ultima_pos = numeri_estratti.apply(lambda colonna: numero in colonna.values).iloc[::-1].idxmax()\n",
        "        ultime_uscite[numero] = ultima_pos\n",
        "    except:\n",
        "        ultime_uscite[numero] = -1\n",
        "\n",
        "# Ordina i ritardatari (i più vecchi per primi)\n",
        "ritardatari = sorted(ultime_uscite, key=ultime_uscite.get, reverse=True)[:5]\n",
        "\n",
        "# Previsione Finale 🔥\n",
        "previsione = numeri_frequenti + ritardatari\n",
        "print(\"Numeri più frequenti:\", numeri_frequenti)\n",
        "print(\"Numeri ritardatari:\", ritardatari)\n",
        "print(\"Previsione Finale:\", previsione)\n",
        "\n"
      ],
      "metadata": {
        "colab": {
          "base_uri": "https://localhost:8080/"
        },
        "id": "GOqNKLh13XVe",
        "outputId": "b95edbdc-5a2a-4acd-d954-b534d0b66f80"
      },
      "execution_count": 7,
      "outputs": [
        {
          "output_type": "stream",
          "name": "stdout",
          "text": [
            "*** No CODEPAGE record, no encoding_override: will use 'iso-8859-1'\n",
            "Numeri più frequenti: [80.0, 7.0, 87.0, 23.0, 2.0]\n",
            "Numeri ritardatari: [1, 4, 7, 8, 13]\n",
            "Previsione Finale: [80.0, 7.0, 87.0, 23.0, 2.0, 1, 4, 7, 8, 13]\n"
          ]
        }
      ]
    },
    {
      "cell_type": "code",
      "source": [
        "# Genera una previsione (esempio semplificato)\n",
        "# La previsione si basa sui numeri più frequenti\n",
        "previsione = numeri_frequenti"
      ],
      "metadata": {
        "id": "R8LasAQU3aS2"
      },
      "execution_count": 8,
      "outputs": []
    },
    {
      "cell_type": "code",
      "source": [
        "# Crea un DataFrame per la previsione\n",
        "previsione_df = pd.DataFrame({'Numero': previsione})\n"
      ],
      "metadata": {
        "id": "_hMO6Nnx3dKm"
      },
      "execution_count": 4,
      "outputs": []
    },
    {
      "cell_type": "code",
      "source": [
        "# Salva la previsione in un file CSV\n",
        "previsione_df.to_csv('/content/previsione_lotto.csv', index=False)\n",
        "\n",
        "print(\"Previsione salvata in /content/previsione_lotto.csv\")\n",
        "\n",
        "from google.colab import files\n",
        "files.download('/content/previsione_lotto.csv')\n"
      ],
      "metadata": {
        "colab": {
          "base_uri": "https://localhost:8080/",
          "height": 35
        },
        "id": "gimKnDF-3gD1",
        "outputId": "8be8eaaf-95ba-4968-f2a2-fe0c796c7011"
      },
      "execution_count": 5,
      "outputs": [
        {
          "output_type": "stream",
          "name": "stdout",
          "text": [
            "Previsione salvata in /content/previsione_lotto.csv\n"
          ]
        },
        {
          "output_type": "display_data",
          "data": {
            "text/plain": [
              "<IPython.core.display.Javascript object>"
            ],
            "application/javascript": [
              "\n",
              "    async function download(id, filename, size) {\n",
              "      if (!google.colab.kernel.accessAllowed) {\n",
              "        return;\n",
              "      }\n",
              "      const div = document.createElement('div');\n",
              "      const label = document.createElement('label');\n",
              "      label.textContent = `Downloading \"${filename}\": `;\n",
              "      div.appendChild(label);\n",
              "      const progress = document.createElement('progress');\n",
              "      progress.max = size;\n",
              "      div.appendChild(progress);\n",
              "      document.body.appendChild(div);\n",
              "\n",
              "      const buffers = [];\n",
              "      let downloaded = 0;\n",
              "\n",
              "      const channel = await google.colab.kernel.comms.open(id);\n",
              "      // Send a message to notify the kernel that we're ready.\n",
              "      channel.send({})\n",
              "\n",
              "      for await (const message of channel.messages) {\n",
              "        // Send a message to notify the kernel that we're ready.\n",
              "        channel.send({})\n",
              "        if (message.buffers) {\n",
              "          for (const buffer of message.buffers) {\n",
              "            buffers.push(buffer);\n",
              "            downloaded += buffer.byteLength;\n",
              "            progress.value = downloaded;\n",
              "          }\n",
              "        }\n",
              "      }\n",
              "      const blob = new Blob(buffers, {type: 'application/binary'});\n",
              "      const a = document.createElement('a');\n",
              "      a.href = window.URL.createObjectURL(blob);\n",
              "      a.download = filename;\n",
              "      div.appendChild(a);\n",
              "      a.click();\n",
              "      div.remove();\n",
              "    }\n",
              "  "
            ]
          },
          "metadata": {}
        },
        {
          "output_type": "display_data",
          "data": {
            "text/plain": [
              "<IPython.core.display.Javascript object>"
            ],
            "application/javascript": [
              "download(\"download_970a9a86-4cd8-433d-b4f1-c1b16208762b\", \"previsione_lotto.csv\", 30)"
            ]
          },
          "metadata": {}
        }
      ]
    }
  ],
  "metadata": {
    "colab": {
      "name": "Un benvenuto a Colaboratory",
      "toc_visible": true,
      "provenance": [],
      "include_colab_link": true
    },
    "kernelspec": {
      "display_name": "Python 3",
      "name": "python3"
    }
  },
  "nbformat": 4,
  "nbformat_minor": 0
}