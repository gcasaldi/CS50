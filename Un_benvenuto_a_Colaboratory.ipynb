{
  "cells": [
    {
      "cell_type": "markdown",
      "metadata": {
        "id": "view-in-github",
        "colab_type": "text"
      },
      "source": [
        "<a href=\"https://colab.research.google.com/github/gcasaldi/CS50/blob/main/Un_benvenuto_a_Colaboratory.ipynb\" target=\"_parent\"><img src=\"https://colab.research.google.com/assets/colab-badge.svg\" alt=\"Open In Colab\"/></a>"
      ]
    },
    {
      "cell_type": "code",
      "execution_count": null,
      "metadata": {
        "id": "zwFnJsE6vjf8"
      },
      "outputs": [],
      "source": []
    },
    {
      "cell_type": "code",
      "source": [
        "!pip install openpyxl\n",
        "import pandas as pd\n",
        "from datetime import datetime, timedelta\n",
        "from google.colab import files\n",
        "import numpy as np\n",
        "from tensorflow.keras.models import Sequential\n",
        "from tensorflow.keras.layers import LSTM, Dense, Dropout\n",
        "from sklearn.preprocessing import MinMaxScaler\n",
        "from tensorflow.keras.utils import to_categorical\n",
        "from collections import Counter\n",
        "\n",
        "\n",
        "\n"
      ],
      "metadata": {
        "colab": {
          "base_uri": "https://localhost:8080/"
        },
        "id": "QxjvmwmCz0_A",
        "outputId": "c38d7244-d331-4e0a-c083-0dcb2a76cf78"
      },
      "execution_count": 1,
      "outputs": [
        {
          "output_type": "stream",
          "name": "stdout",
          "text": [
            "Requirement already satisfied: openpyxl in /usr/local/lib/python3.11/dist-packages (3.1.5)\n",
            "Requirement already satisfied: et-xmlfile in /usr/local/lib/python3.11/dist-packages (from openpyxl) (2.0.0)\n"
          ]
        }
      ]
    },
    {
      "cell_type": "code",
      "source": [
        "from google.colab import files\n",
        "import zipfile\n",
        "import os\n",
        "\n",
        "# Carica il file ZIP\n",
        "uploaded = files.upload()\n",
        "\n",
        "# Verifica il nome del file caricato\n",
        "file_name = list(uploaded.keys())[0]\n",
        "zip_path = f'/content/{file_name}'\n",
        "\n",
        "# Estrai il contenuto del file ZIP\n",
        "extracted_folder = '/content/extracted/'\n",
        "with zipfile.ZipFile(zip_path, 'r') as zip_ref:\n",
        "    zip_ref.extractall(extracted_folder)\n",
        "\n",
        "# Verifica i file estratti\n",
        "extracted_files = os.listdir(extracted_folder)\n",
        "print(f\"File estratti: {extracted_files}\")\n",
        "\n",
        "# Salva il path del file Excel estratto per usarlo nella seconda cella\n",
        "excel_file_path = os.path.join(extracted_folder, extracted_files[0])\n",
        "print(f\"File Excel estratto: {excel_file_path}\")\n",
        "\n"
      ],
      "metadata": {
        "id": "ste5YD1_IghP",
        "outputId": "231c5473-9587-4366-fd5f-9e2ca10bae29",
        "colab": {
          "base_uri": "https://localhost:8080/",
          "height": 145
        }
      },
      "execution_count": 31,
      "outputs": [
        {
          "output_type": "display_data",
          "data": {
            "text/plain": [
              "<IPython.core.display.HTML object>"
            ],
            "text/html": [
              "\n",
              "     <input type=\"file\" id=\"files-8c28ded4-8fd0-4ea5-aa81-4084c7ce5d5f\" name=\"files[]\" multiple disabled\n",
              "        style=\"border:none\" />\n",
              "     <output id=\"result-8c28ded4-8fd0-4ea5-aa81-4084c7ce5d5f\">\n",
              "      Upload widget is only available when the cell has been executed in the\n",
              "      current browser session. Please rerun this cell to enable.\n",
              "      </output>\n",
              "      <script>// Copyright 2017 Google LLC\n",
              "//\n",
              "// Licensed under the Apache License, Version 2.0 (the \"License\");\n",
              "// you may not use this file except in compliance with the License.\n",
              "// You may obtain a copy of the License at\n",
              "//\n",
              "//      http://www.apache.org/licenses/LICENSE-2.0\n",
              "//\n",
              "// Unless required by applicable law or agreed to in writing, software\n",
              "// distributed under the License is distributed on an \"AS IS\" BASIS,\n",
              "// WITHOUT WARRANTIES OR CONDITIONS OF ANY KIND, either express or implied.\n",
              "// See the License for the specific language governing permissions and\n",
              "// limitations under the License.\n",
              "\n",
              "/**\n",
              " * @fileoverview Helpers for google.colab Python module.\n",
              " */\n",
              "(function(scope) {\n",
              "function span(text, styleAttributes = {}) {\n",
              "  const element = document.createElement('span');\n",
              "  element.textContent = text;\n",
              "  for (const key of Object.keys(styleAttributes)) {\n",
              "    element.style[key] = styleAttributes[key];\n",
              "  }\n",
              "  return element;\n",
              "}\n",
              "\n",
              "// Max number of bytes which will be uploaded at a time.\n",
              "const MAX_PAYLOAD_SIZE = 100 * 1024;\n",
              "\n",
              "function _uploadFiles(inputId, outputId) {\n",
              "  const steps = uploadFilesStep(inputId, outputId);\n",
              "  const outputElement = document.getElementById(outputId);\n",
              "  // Cache steps on the outputElement to make it available for the next call\n",
              "  // to uploadFilesContinue from Python.\n",
              "  outputElement.steps = steps;\n",
              "\n",
              "  return _uploadFilesContinue(outputId);\n",
              "}\n",
              "\n",
              "// This is roughly an async generator (not supported in the browser yet),\n",
              "// where there are multiple asynchronous steps and the Python side is going\n",
              "// to poll for completion of each step.\n",
              "// This uses a Promise to block the python side on completion of each step,\n",
              "// then passes the result of the previous step as the input to the next step.\n",
              "function _uploadFilesContinue(outputId) {\n",
              "  const outputElement = document.getElementById(outputId);\n",
              "  const steps = outputElement.steps;\n",
              "\n",
              "  const next = steps.next(outputElement.lastPromiseValue);\n",
              "  return Promise.resolve(next.value.promise).then((value) => {\n",
              "    // Cache the last promise value to make it available to the next\n",
              "    // step of the generator.\n",
              "    outputElement.lastPromiseValue = value;\n",
              "    return next.value.response;\n",
              "  });\n",
              "}\n",
              "\n",
              "/**\n",
              " * Generator function which is called between each async step of the upload\n",
              " * process.\n",
              " * @param {string} inputId Element ID of the input file picker element.\n",
              " * @param {string} outputId Element ID of the output display.\n",
              " * @return {!Iterable<!Object>} Iterable of next steps.\n",
              " */\n",
              "function* uploadFilesStep(inputId, outputId) {\n",
              "  const inputElement = document.getElementById(inputId);\n",
              "  inputElement.disabled = false;\n",
              "\n",
              "  const outputElement = document.getElementById(outputId);\n",
              "  outputElement.innerHTML = '';\n",
              "\n",
              "  const pickedPromise = new Promise((resolve) => {\n",
              "    inputElement.addEventListener('change', (e) => {\n",
              "      resolve(e.target.files);\n",
              "    });\n",
              "  });\n",
              "\n",
              "  const cancel = document.createElement('button');\n",
              "  inputElement.parentElement.appendChild(cancel);\n",
              "  cancel.textContent = 'Cancel upload';\n",
              "  const cancelPromise = new Promise((resolve) => {\n",
              "    cancel.onclick = () => {\n",
              "      resolve(null);\n",
              "    };\n",
              "  });\n",
              "\n",
              "  // Wait for the user to pick the files.\n",
              "  const files = yield {\n",
              "    promise: Promise.race([pickedPromise, cancelPromise]),\n",
              "    response: {\n",
              "      action: 'starting',\n",
              "    }\n",
              "  };\n",
              "\n",
              "  cancel.remove();\n",
              "\n",
              "  // Disable the input element since further picks are not allowed.\n",
              "  inputElement.disabled = true;\n",
              "\n",
              "  if (!files) {\n",
              "    return {\n",
              "      response: {\n",
              "        action: 'complete',\n",
              "      }\n",
              "    };\n",
              "  }\n",
              "\n",
              "  for (const file of files) {\n",
              "    const li = document.createElement('li');\n",
              "    li.append(span(file.name, {fontWeight: 'bold'}));\n",
              "    li.append(span(\n",
              "        `(${file.type || 'n/a'}) - ${file.size} bytes, ` +\n",
              "        `last modified: ${\n",
              "            file.lastModifiedDate ? file.lastModifiedDate.toLocaleDateString() :\n",
              "                                    'n/a'} - `));\n",
              "    const percent = span('0% done');\n",
              "    li.appendChild(percent);\n",
              "\n",
              "    outputElement.appendChild(li);\n",
              "\n",
              "    const fileDataPromise = new Promise((resolve) => {\n",
              "      const reader = new FileReader();\n",
              "      reader.onload = (e) => {\n",
              "        resolve(e.target.result);\n",
              "      };\n",
              "      reader.readAsArrayBuffer(file);\n",
              "    });\n",
              "    // Wait for the data to be ready.\n",
              "    let fileData = yield {\n",
              "      promise: fileDataPromise,\n",
              "      response: {\n",
              "        action: 'continue',\n",
              "      }\n",
              "    };\n",
              "\n",
              "    // Use a chunked sending to avoid message size limits. See b/62115660.\n",
              "    let position = 0;\n",
              "    do {\n",
              "      const length = Math.min(fileData.byteLength - position, MAX_PAYLOAD_SIZE);\n",
              "      const chunk = new Uint8Array(fileData, position, length);\n",
              "      position += length;\n",
              "\n",
              "      const base64 = btoa(String.fromCharCode.apply(null, chunk));\n",
              "      yield {\n",
              "        response: {\n",
              "          action: 'append',\n",
              "          file: file.name,\n",
              "          data: base64,\n",
              "        },\n",
              "      };\n",
              "\n",
              "      let percentDone = fileData.byteLength === 0 ?\n",
              "          100 :\n",
              "          Math.round((position / fileData.byteLength) * 100);\n",
              "      percent.textContent = `${percentDone}% done`;\n",
              "\n",
              "    } while (position < fileData.byteLength);\n",
              "  }\n",
              "\n",
              "  // All done.\n",
              "  yield {\n",
              "    response: {\n",
              "      action: 'complete',\n",
              "    }\n",
              "  };\n",
              "}\n",
              "\n",
              "scope.google = scope.google || {};\n",
              "scope.google.colab = scope.google.colab || {};\n",
              "scope.google.colab._files = {\n",
              "  _uploadFiles,\n",
              "  _uploadFilesContinue,\n",
              "};\n",
              "})(self);\n",
              "</script> "
            ]
          },
          "metadata": {}
        },
        {
          "output_type": "stream",
          "name": "stdout",
          "text": [
            "Saving it-superenalotto-past-draws-archive.zip to it-superenalotto-past-draws-archive.zip\n",
            "File estratti: ['it-superenalotto-past-draws-archive.xls']\n",
            "File Excel estratto: /content/extracted/it-superenalotto-past-draws-archive.xls\n"
          ]
        }
      ]
    },
    {
      "cell_type": "code",
      "source": [
        "import pandas as pd\n",
        "\n",
        "# Usa il path ottenuto dalla prima cella\n",
        "file_path = '/content/extracted/it-superenalotto-past-draws-archive.xls'  # Assicurati che questo percorso sia corretto\n",
        "\n",
        "def carica_database(file_path):\n",
        "    # Usa 'xlrd' come engine per i file .xls\n",
        "    df = pd.read_excel(file_path, engine='xlrd', skiprows=1)\n",
        "    numeri_estratti = df.select_dtypes(include='number').dropna(axis=1, how='all')\n",
        "    numeri_estratti = numeri_estratti.tail(500)\n",
        "    return numeri_estratti\n",
        "\n",
        "# Carica i dati nel DataFrame\n",
        "df = carica_database(file_path)\n",
        "\n",
        "# Visualizza le prime 10 righe\n",
        "print(df.head(10))\n"
      ],
      "metadata": {
        "id": "Sia9c1rtLRf5",
        "outputId": "2ef33cbb-778d-41c3-fb14-d68bf704d85c",
        "colab": {
          "base_uri": "https://localhost:8080/"
        }
      },
      "execution_count": 33,
      "outputs": [
        {
          "output_type": "stream",
          "name": "stdout",
          "text": [
            "*** No CODEPAGE record, no encoding_override: will use 'iso-8859-1'\n",
            "   Unnamed: 3  Unnamed: 4  Unnamed: 5  Unnamed: 6  Unnamed: 7\n",
            "0         NaN         NaN         NaN         NaN         NaN\n",
            "1         NaN         NaN         NaN         NaN         NaN\n",
            "2         2.0         3.0         4.0         5.0         6.0\n",
            "3        10.0        18.0        19.0        32.0        36.0\n",
            "4        28.0        52.0        63.0        77.0        79.0\n",
            "5        12.0        33.0        40.0        41.0        83.0\n",
            "6        12.0        37.0        59.0        63.0        90.0\n",
            "7        31.0        33.0        42.0        51.0        72.0\n",
            "8        58.0        68.0        83.0        89.0        90.0\n",
            "9        40.0        48.0        49.0        52.0        89.0\n"
          ]
        }
      ]
    },
    {
      "cell_type": "markdown",
      "source": [
        "Codice per ordinare e correggere i dati:"
      ],
      "metadata": {
        "id": "NMlAQ3KPZJCd"
      }
    },
    {
      "cell_type": "code",
      "source": [
        "# Pulizia dei dati: rimuoviamo le colonne vuote e manteniamo solo i numeri\n",
        "def pulizia_dati(df):\n",
        "    df_cleaned = df.select_dtypes(include='number').dropna(axis=1, how='all')  # Manteniamo solo colonne con numeri\n",
        "    return df_cleaned\n",
        "\n",
        "# Applichiamo la pulizia\n",
        "df_cleaned = pulizia_dati(df)\n",
        "\n",
        "# Mostra le prime 10 righe dopo la pulizia\n",
        "print(df_cleaned.head(10))\n"
      ],
      "metadata": {
        "id": "FxPxAV8QMQ-R",
        "outputId": "a8653b64-068c-4e0d-9225-95dcdd059ed7",
        "colab": {
          "base_uri": "https://localhost:8080/"
        }
      },
      "execution_count": 34,
      "outputs": [
        {
          "output_type": "stream",
          "name": "stdout",
          "text": [
            "   Unnamed: 3  Unnamed: 4  Unnamed: 5  Unnamed: 6  Unnamed: 7\n",
            "0         NaN         NaN         NaN         NaN         NaN\n",
            "1         NaN         NaN         NaN         NaN         NaN\n",
            "2         2.0         3.0         4.0         5.0         6.0\n",
            "3        10.0        18.0        19.0        32.0        36.0\n",
            "4        28.0        52.0        63.0        77.0        79.0\n",
            "5        12.0        33.0        40.0        41.0        83.0\n",
            "6        12.0        37.0        59.0        63.0        90.0\n",
            "7        31.0        33.0        42.0        51.0        72.0\n",
            "8        58.0        68.0        83.0        89.0        90.0\n",
            "9        40.0        48.0        49.0        52.0        89.0\n"
          ]
        }
      ]
    },
    {
      "cell_type": "markdown",
      "source": [],
      "metadata": {
        "id": "j1VxXlRJTKfh"
      }
    },
    {
      "cell_type": "markdown",
      "source": [
        "Seleziona solo le colonne numeriche (i numeri estratti)"
      ],
      "metadata": {
        "id": "u9YJhjwgQaKr"
      }
    },
    {
      "cell_type": "code",
      "source": [
        "# Seleziona solo le colonne numeriche (i numeri estratti)\n",
        "df_cleaned = df.select_dtypes(include=[np.number])\n",
        "\n",
        "# Rimuove righe che contengono tutti valori NaN\n",
        "df_cleaned = df_cleaned.dropna(how='all')\n",
        "\n",
        "# Converte i numeri in interi per eliminare i .0\n",
        "df_cleaned = df_cleaned.astype(int)\n",
        "\n",
        "# Stampa i primi numeri per verificare\n",
        "print(df_cleaned.head(10))"
      ],
      "metadata": {
        "id": "F0IdgeqrQdWw",
        "outputId": "5f0e0a4f-2f96-482d-aa7f-225eb25643c9",
        "colab": {
          "base_uri": "https://localhost:8080/"
        }
      },
      "execution_count": 63,
      "outputs": [
        {
          "output_type": "stream",
          "name": "stdout",
          "text": [
            "    Unnamed: 3  Unnamed: 4  Unnamed: 5  Unnamed: 6  Unnamed: 7\n",
            "2            2           3           4           5           6\n",
            "3           10          18          19          32          36\n",
            "4           28          52          63          77          79\n",
            "5           12          33          40          41          83\n",
            "6           12          37          59          63          90\n",
            "7           31          33          42          51          72\n",
            "8           58          68          83          89          90\n",
            "9           40          48          49          52          89\n",
            "10          45          48          72          79          87\n",
            "11          19          27          63          71          77\n"
          ]
        }
      ]
    },
    {
      "cell_type": "markdown",
      "source": [
        "\n",
        "# Prendi solo le ultime 500 estrazioni"
      ],
      "metadata": {
        "id": "u8ej44cHQf5b"
      }
    },
    {
      "cell_type": "code",
      "source": [
        "df_cleaned = df_cleaned.tail(500)"
      ],
      "metadata": {
        "id": "PpUAkVMoQidR"
      },
      "execution_count": 65,
      "outputs": []
    },
    {
      "cell_type": "markdown",
      "source": [
        "# Normalizza i dati tra 0 e 1"
      ],
      "metadata": {
        "id": "7RBwT-sAQlOI"
      }
    },
    {
      "cell_type": "code",
      "source": [
        "scaler = MinMaxScaler(feature_range=(0, 1))\n",
        "df_scaled = scaler.fit_transform(df_cleaned)\n"
      ],
      "metadata": {
        "id": "1CxlovdwQnkI"
      },
      "execution_count": 66,
      "outputs": []
    },
    {
      "cell_type": "markdown",
      "source": [
        "\n",
        "# Funzione per creare sequenze di dati"
      ],
      "metadata": {
        "id": "qIcfZ0ahQqEI"
      }
    },
    {
      "cell_type": "code",
      "source": [
        "def prepara_dati(df_scaled, sequenza_lunghezza=5):\n",
        "    X, y = [], []\n",
        "    for i in range(len(df_scaled) - sequenza_lunghezza):\n",
        "        X.append(df_scaled[i:i + sequenza_lunghezza])\n",
        "        y.append(df_scaled[i + sequenza_lunghezza])  # Previsione successiva\n",
        "    return np.array(X), np.array(y)\n"
      ],
      "metadata": {
        "id": "qUGFetRWQshw"
      },
      "execution_count": 67,
      "outputs": []
    },
    {
      "cell_type": "markdown",
      "source": [
        "# Prepara i dati per il modello LSTM"
      ],
      "metadata": {
        "id": "lo11sdSHQxhI"
      }
    },
    {
      "cell_type": "code",
      "source": [
        "X, y = prepara_dati(df_scaled)\n",
        "\n",
        "print(f\"Forma di X: {X.shape}\")  # (num_samples, sequenza_lunghezza, num_features)\n",
        "print(f\"Forma di y: {y.shape}\")  # (num_samples, num_features)"
      ],
      "metadata": {
        "id": "rpyJ3pyiQyzr",
        "outputId": "1f0fceda-3010-4562-8c78-1e34a684cede",
        "colab": {
          "base_uri": "https://localhost:8080/"
        }
      },
      "execution_count": 68,
      "outputs": [
        {
          "output_type": "stream",
          "name": "stdout",
          "text": [
            "Forma di X: (33, 5, 5)\n",
            "Forma di y: (33, 5)\n"
          ]
        }
      ]
    },
    {
      "cell_type": "markdown",
      "source": [
        "Creiamo il modello LSTM e lo alleniamo"
      ],
      "metadata": {
        "id": "jn9uXI9hQ2gJ"
      }
    },
    {
      "cell_type": "code",
      "source": [
        "import numpy as np\n",
        "import pandas as pd\n",
        "from tensorflow.keras.models import Sequential\n",
        "from tensorflow.keras.layers import LSTM, Dense, Dropout\n",
        "from tensorflow.keras.optimizers import Adam\n",
        "from tensorflow.keras.callbacks import EarlyStopping\n",
        "from tensorflow.keras.regularizers import l2\n",
        "\n",
        "# Preprocessing dei dati\n",
        "# Creiamo sequenze temporali (X, y) come hai già fatto\n",
        "# X = ... (preparazione dei dati come da codice precedente)\n",
        "\n",
        "# Nuovo modello migliorato con Dropout e Regularizzazione L2\n",
        "modello = Sequential()\n",
        "modello.add(LSTM(units=128, return_sequences=True, input_shape=(X.shape[1], X.shape[2]), kernel_regularizer=l2(0.01)))\n",
        "modello.add(Dropout(0.2))  # Aggiungi Dropout per evitare overfitting\n",
        "modello.add(LSTM(units=64, return_sequences=False, kernel_regularizer=l2(0.01)))\n",
        "modello.add(Dropout(0.2))  # Aggiungi Dropout\n",
        "modello.add(Dense(units=5, activation='relu', kernel_regularizer=l2(0.01)))  # Rete fully connected finale\n",
        "\n",
        "# Compilazione con MSE per regressione\n",
        "modello.compile(optimizer=Adam(learning_rate=0.001), loss='mean_squared_error')\n",
        "\n",
        "# Aggiungi Early Stopping per evitare overfitting\n",
        "early_stopping = EarlyStopping(monitor='val_loss', patience=10, restore_best_weights=True)\n",
        "\n",
        "# Addestramento del modello con validation_split per monitorare il val_loss\n",
        "modello.fit(X, y, epochs=50, batch_size=32, verbose=1, validation_split=0.2, callbacks=[early_stopping])\n",
        "\n",
        "# Predizione con trasformazione\n",
        "predizione = modello.predict(X[-1].reshape(1, X.shape[1], X.shape[2]))\n",
        "predizione_interi = np.clip(np.round(predizione).astype(int), 1, 90)\n",
        "import numpy as np\n",
        "import pandas as pd\n",
        "from tensorflow.keras.models import Sequential\n",
        "from tensorflow.keras.layers import LSTM, Dense, Dropout\n",
        "from tensorflow.keras.optimizers import Adam\n",
        "from tensorflow.keras.callbacks import EarlyStopping\n",
        "from tensorflow.keras.regularizers import l2\n",
        "\n",
        "# Preprocessing dei dati\n",
        "# Creiamo sequenze temporali (X, y) come hai già fatto\n",
        "# X = ... (preparazione dei dati come da codice precedente)\n",
        "\n",
        "# Nuovo modello migliorato con Dropout e Regularizzazione L2\n",
        "modello = Sequential()\n",
        "modello.add(LSTM(units=128, return_sequences=True, input_shape=(X.shape[1], X.shape[2]), kernel_regularizer=l2(0.01)))\n",
        "modello.add(Dropout(0.2))  # Aggiungi Dropout per evitare overfitting\n",
        "modello.add(LSTM(units=64, return_sequences=False, kernel_regularizer=l2(0.01)))\n",
        "modello.add(Dropout(0.2))  # Aggiungi Dropout\n",
        "modello.add(Dense(units=5, activation='relu', kernel_regularizer=l2(0.01)))  # Rete fully connected finale\n",
        "\n",
        "# Compilazione con MSE per regressione\n",
        "modello.compile(optimizer=Adam(learning_rate=0.001), loss='mean_squared_error')\n",
        "\n",
        "# Aggiungi Early Stopping per evitare overfitting\n",
        "early_stopping = EarlyStopping(monitor='val_loss', patience=10, restore_best_weights=True)\n",
        "\n",
        "# Addestramento del modello con validation_split per monitorare il val_loss\n",
        "modello.fit(X, y, epochs=50, batch_size=32, verbose=1, validation_split=0.2, callbacks=[early_stopping])\n",
        "\n",
        "# Predizione con trasformazione\n",
        "predizione = modello.predict(X[-1].reshape(1, X.shape[1], X.shape[2]))\n",
        "predizione_interi = np.clip(np.round(predizione).astype(int), 1, 90)\n",
        "\n",
        "# Risultato finale\n",
        "print(f\"Predizione della prossima estrazione: {predizione_interi.flatten()}\")"
      ],
      "metadata": {
        "id": "P-Jzyw85Q4er",
        "outputId": "e23dac2c-a3af-4bcb-dea0-835c89f81ff0",
        "colab": {
          "base_uri": "https://localhost:8080/"
        }
      },
      "execution_count": 78,
      "outputs": [
        {
          "output_type": "stream",
          "name": "stderr",
          "text": [
            "/usr/local/lib/python3.11/dist-packages/keras/src/layers/rnn/rnn.py:200: UserWarning: Do not pass an `input_shape`/`input_dim` argument to a layer. When using Sequential models, prefer using an `Input(shape)` object as the first layer in the model instead.\n",
            "  super().__init__(**kwargs)\n"
          ]
        },
        {
          "output_type": "stream",
          "name": "stdout",
          "text": [
            "Epoch 1/50\n",
            "\u001b[1m1/1\u001b[0m \u001b[32m━━━━━━━━━━━━━━━━━━━━\u001b[0m\u001b[37m\u001b[0m \u001b[1m5s\u001b[0m 5s/step - loss: 2.3927 - val_loss: 2.2873\n",
            "Epoch 2/50\n",
            "\u001b[1m1/1\u001b[0m \u001b[32m━━━━━━━━━━━━━━━━━━━━\u001b[0m\u001b[37m\u001b[0m \u001b[1m0s\u001b[0m 106ms/step - loss: 2.3294 - val_loss: 2.2130\n",
            "Epoch 3/50\n",
            "\u001b[1m1/1\u001b[0m \u001b[32m━━━━━━━━━━━━━━━━━━━━\u001b[0m\u001b[37m\u001b[0m \u001b[1m0s\u001b[0m 137ms/step - loss: 2.2474 - val_loss: 2.1400\n",
            "Epoch 4/50\n",
            "\u001b[1m1/1\u001b[0m \u001b[32m━━━━━━━━━━━━━━━━━━━━\u001b[0m\u001b[37m\u001b[0m \u001b[1m0s\u001b[0m 142ms/step - loss: 2.1639 - val_loss: 2.0684\n",
            "Epoch 5/50\n",
            "\u001b[1m1/1\u001b[0m \u001b[32m━━━━━━━━━━━━━━━━━━━━\u001b[0m\u001b[37m\u001b[0m \u001b[1m0s\u001b[0m 109ms/step - loss: 2.0952 - val_loss: 1.9989\n",
            "Epoch 6/50\n",
            "\u001b[1m1/1\u001b[0m \u001b[32m━━━━━━━━━━━━━━━━━━━━\u001b[0m\u001b[37m\u001b[0m \u001b[1m0s\u001b[0m 150ms/step - loss: 2.0111 - val_loss: 1.9318\n",
            "Epoch 7/50\n",
            "\u001b[1m1/1\u001b[0m \u001b[32m━━━━━━━━━━━━━━━━━━━━\u001b[0m\u001b[37m\u001b[0m \u001b[1m0s\u001b[0m 102ms/step - loss: 1.9540 - val_loss: 1.8683\n",
            "Epoch 8/50\n",
            "\u001b[1m1/1\u001b[0m \u001b[32m━━━━━━━━━━━━━━━━━━━━\u001b[0m\u001b[37m\u001b[0m \u001b[1m0s\u001b[0m 107ms/step - loss: 1.8756 - val_loss: 1.8092\n",
            "Epoch 9/50\n",
            "\u001b[1m1/1\u001b[0m \u001b[32m━━━━━━━━━━━━━━━━━━━━\u001b[0m\u001b[37m\u001b[0m \u001b[1m0s\u001b[0m 139ms/step - loss: 1.8183 - val_loss: 1.7562\n",
            "Epoch 10/50\n",
            "\u001b[1m1/1\u001b[0m \u001b[32m━━━━━━━━━━━━━━━━━━━━\u001b[0m\u001b[37m\u001b[0m \u001b[1m0s\u001b[0m 105ms/step - loss: 1.7724 - val_loss: 1.7106\n",
            "Epoch 11/50\n",
            "\u001b[1m1/1\u001b[0m \u001b[32m━━━━━━━━━━━━━━━━━━━━\u001b[0m\u001b[37m\u001b[0m \u001b[1m0s\u001b[0m 113ms/step - loss: 1.7304 - val_loss: 1.6730\n",
            "Epoch 12/50\n",
            "\u001b[1m1/1\u001b[0m \u001b[32m━━━━━━━━━━━━━━━━━━━━\u001b[0m\u001b[37m\u001b[0m \u001b[1m0s\u001b[0m 135ms/step - loss: 1.6891 - val_loss: 1.6417\n",
            "Epoch 13/50\n",
            "\u001b[1m1/1\u001b[0m \u001b[32m━━━━━━━━━━━━━━━━━━━━\u001b[0m\u001b[37m\u001b[0m \u001b[1m0s\u001b[0m 150ms/step - loss: 1.6663 - val_loss: 1.6124\n",
            "Epoch 14/50\n",
            "\u001b[1m1/1\u001b[0m \u001b[32m━━━━━━━━━━━━━━━━━━━━\u001b[0m\u001b[37m\u001b[0m \u001b[1m0s\u001b[0m 99ms/step - loss: 1.6360 - val_loss: 1.5815\n",
            "Epoch 15/50\n",
            "\u001b[1m1/1\u001b[0m \u001b[32m━━━━━━━━━━━━━━━━━━━━\u001b[0m\u001b[37m\u001b[0m \u001b[1m0s\u001b[0m 99ms/step - loss: 1.6162 - val_loss: 1.5476\n",
            "Epoch 16/50\n",
            "\u001b[1m1/1\u001b[0m \u001b[32m━━━━━━━━━━━━━━━━━━━━\u001b[0m\u001b[37m\u001b[0m \u001b[1m0s\u001b[0m 99ms/step - loss: 1.5887 - val_loss: 1.5119\n",
            "Epoch 17/50\n",
            "\u001b[1m1/1\u001b[0m \u001b[32m━━━━━━━━━━━━━━━━━━━━\u001b[0m\u001b[37m\u001b[0m \u001b[1m0s\u001b[0m 144ms/step - loss: 1.5491 - val_loss: 1.4767\n",
            "Epoch 18/50\n",
            "\u001b[1m1/1\u001b[0m \u001b[32m━━━━━━━━━━━━━━━━━━━━\u001b[0m\u001b[37m\u001b[0m \u001b[1m0s\u001b[0m 104ms/step - loss: 1.5051 - val_loss: 1.4434\n",
            "Epoch 19/50\n",
            "\u001b[1m1/1\u001b[0m \u001b[32m━━━━━━━━━━━━━━━━━━━━\u001b[0m\u001b[37m\u001b[0m \u001b[1m0s\u001b[0m 148ms/step - loss: 1.4658 - val_loss: 1.4126\n",
            "Epoch 20/50\n",
            "\u001b[1m1/1\u001b[0m \u001b[32m━━━━━━━━━━━━━━━━━━━━\u001b[0m\u001b[37m\u001b[0m \u001b[1m0s\u001b[0m 128ms/step - loss: 1.4419 - val_loss: 1.3840\n",
            "Epoch 21/50\n",
            "\u001b[1m1/1\u001b[0m \u001b[32m━━━━━━━━━━━━━━━━━━━━\u001b[0m\u001b[37m\u001b[0m \u001b[1m0s\u001b[0m 153ms/step - loss: 1.4045 - val_loss: 1.3568\n",
            "Epoch 22/50\n",
            "\u001b[1m1/1\u001b[0m \u001b[32m━━━━━━━━━━━━━━━━━━━━\u001b[0m\u001b[37m\u001b[0m \u001b[1m0s\u001b[0m 131ms/step - loss: 1.3801 - val_loss: 1.3307\n",
            "Epoch 23/50\n",
            "\u001b[1m1/1\u001b[0m \u001b[32m━━━━━━━━━━━━━━━━━━━━\u001b[0m\u001b[37m\u001b[0m \u001b[1m0s\u001b[0m 138ms/step - loss: 1.3476 - val_loss: 1.3051\n",
            "Epoch 24/50\n",
            "\u001b[1m1/1\u001b[0m \u001b[32m━━━━━━━━━━━━━━━━━━━━\u001b[0m\u001b[37m\u001b[0m \u001b[1m0s\u001b[0m 99ms/step - loss: 1.3200 - val_loss: 1.2798\n",
            "Epoch 25/50\n",
            "\u001b[1m1/1\u001b[0m \u001b[32m━━━━━━━━━━━━━━━━━━━━\u001b[0m\u001b[37m\u001b[0m \u001b[1m0s\u001b[0m 142ms/step - loss: 1.3033 - val_loss: 1.2544\n",
            "Epoch 26/50\n",
            "\u001b[1m1/1\u001b[0m \u001b[32m━━━━━━━━━━━━━━━━━━━━\u001b[0m\u001b[37m\u001b[0m \u001b[1m0s\u001b[0m 138ms/step - loss: 1.2636 - val_loss: 1.2291\n",
            "Epoch 27/50\n",
            "\u001b[1m1/1\u001b[0m \u001b[32m━━━━━━━━━━━━━━━━━━━━\u001b[0m\u001b[37m\u001b[0m \u001b[1m0s\u001b[0m 109ms/step - loss: 1.2404 - val_loss: 1.2036\n",
            "Epoch 28/50\n",
            "\u001b[1m1/1\u001b[0m \u001b[32m━━━━━━━━━━━━━━━━━━━━\u001b[0m\u001b[37m\u001b[0m \u001b[1m0s\u001b[0m 101ms/step - loss: 1.2192 - val_loss: 1.1781\n",
            "Epoch 29/50\n",
            "\u001b[1m1/1\u001b[0m \u001b[32m━━━━━━━━━━━━━━━━━━━━\u001b[0m\u001b[37m\u001b[0m \u001b[1m0s\u001b[0m 143ms/step - loss: 1.1883 - val_loss: 1.1527\n",
            "Epoch 30/50\n",
            "\u001b[1m1/1\u001b[0m \u001b[32m━━━━━━━━━━━━━━━━━━━━\u001b[0m\u001b[37m\u001b[0m \u001b[1m0s\u001b[0m 141ms/step - loss: 1.1588 - val_loss: 1.1275\n",
            "Epoch 31/50\n",
            "\u001b[1m1/1\u001b[0m \u001b[32m━━━━━━━━━━━━━━━━━━━━\u001b[0m\u001b[37m\u001b[0m \u001b[1m0s\u001b[0m 263ms/step - loss: 1.1397 - val_loss: 1.1028\n",
            "Epoch 32/50\n",
            "\u001b[1m1/1\u001b[0m \u001b[32m━━━━━━━━━━━━━━━━━━━━\u001b[0m\u001b[37m\u001b[0m \u001b[1m0s\u001b[0m 138ms/step - loss: 1.1197 - val_loss: 1.0786\n",
            "Epoch 33/50\n",
            "\u001b[1m1/1\u001b[0m \u001b[32m━━━━━━━━━━━━━━━━━━━━\u001b[0m\u001b[37m\u001b[0m \u001b[1m0s\u001b[0m 148ms/step - loss: 1.0964 - val_loss: 1.0551\n",
            "Epoch 34/50\n",
            "\u001b[1m1/1\u001b[0m \u001b[32m━━━━━━━━━━━━━━━━━━━━\u001b[0m\u001b[37m\u001b[0m \u001b[1m0s\u001b[0m 134ms/step - loss: 1.0679 - val_loss: 1.0325\n",
            "Epoch 35/50\n",
            "\u001b[1m1/1\u001b[0m \u001b[32m━━━━━━━━━━━━━━━━━━━━\u001b[0m\u001b[37m\u001b[0m \u001b[1m0s\u001b[0m 148ms/step - loss: 1.0481 - val_loss: 1.0107\n",
            "Epoch 36/50\n",
            "\u001b[1m1/1\u001b[0m \u001b[32m━━━━━━━━━━━━━━━━━━━━\u001b[0m\u001b[37m\u001b[0m \u001b[1m0s\u001b[0m 128ms/step - loss: 1.0231 - val_loss: 0.9897\n",
            "Epoch 37/50\n",
            "\u001b[1m1/1\u001b[0m \u001b[32m━━━━━━━━━━━━━━━━━━━━\u001b[0m\u001b[37m\u001b[0m \u001b[1m0s\u001b[0m 100ms/step - loss: 1.0020 - val_loss: 0.9694\n",
            "Epoch 38/50\n",
            "\u001b[1m1/1\u001b[0m \u001b[32m━━━━━━━━━━━━━━━━━━━━\u001b[0m\u001b[37m\u001b[0m \u001b[1m0s\u001b[0m 105ms/step - loss: 0.9927 - val_loss: 0.9496\n",
            "Epoch 39/50\n",
            "\u001b[1m1/1\u001b[0m \u001b[32m━━━━━━━━━━━━━━━━━━━━\u001b[0m\u001b[37m\u001b[0m \u001b[1m0s\u001b[0m 179ms/step - loss: 0.9648 - val_loss: 0.9303\n",
            "Epoch 40/50\n",
            "\u001b[1m1/1\u001b[0m \u001b[32m━━━━━━━━━━━━━━━━━━━━\u001b[0m\u001b[37m\u001b[0m \u001b[1m0s\u001b[0m 102ms/step - loss: 0.9530 - val_loss: 0.9115\n",
            "Epoch 41/50\n",
            "\u001b[1m1/1\u001b[0m \u001b[32m━━━━━━━━━━━━━━━━━━━━\u001b[0m\u001b[37m\u001b[0m \u001b[1m0s\u001b[0m 143ms/step - loss: 0.9283 - val_loss: 0.8881\n",
            "Epoch 42/50\n",
            "\u001b[1m1/1\u001b[0m \u001b[32m━━━━━━━━━━━━━━━━━━━━\u001b[0m\u001b[37m\u001b[0m \u001b[1m0s\u001b[0m 103ms/step - loss: 0.9031 - val_loss: 0.8602\n",
            "Epoch 43/50\n",
            "\u001b[1m1/1\u001b[0m \u001b[32m━━━━━━━━━━━━━━━━━━━━\u001b[0m\u001b[37m\u001b[0m \u001b[1m0s\u001b[0m 140ms/step - loss: 0.8748 - val_loss: 0.8310\n",
            "Epoch 44/50\n",
            "\u001b[1m1/1\u001b[0m \u001b[32m━━━━━━━━━━━━━━━━━━━━\u001b[0m\u001b[37m\u001b[0m \u001b[1m0s\u001b[0m 106ms/step - loss: 0.8463 - val_loss: 0.8017\n",
            "Epoch 45/50\n",
            "\u001b[1m1/1\u001b[0m \u001b[32m━━━━━━━━━━━━━━━━━━━━\u001b[0m\u001b[37m\u001b[0m \u001b[1m0s\u001b[0m 97ms/step - loss: 0.8131 - val_loss: 0.7730\n",
            "Epoch 46/50\n",
            "\u001b[1m1/1\u001b[0m \u001b[32m━━━━━━━━━━━━━━━━━━━━\u001b[0m\u001b[37m\u001b[0m \u001b[1m0s\u001b[0m 139ms/step - loss: 0.7819 - val_loss: 0.7457\n",
            "Epoch 47/50\n",
            "\u001b[1m1/1\u001b[0m \u001b[32m━━━━━━━━━━━━━━━━━━━━\u001b[0m\u001b[37m\u001b[0m \u001b[1m0s\u001b[0m 102ms/step - loss: 0.7581 - val_loss: 0.7204\n",
            "Epoch 48/50\n",
            "\u001b[1m1/1\u001b[0m \u001b[32m━━━━━━━━━━━━━━━━━━━━\u001b[0m\u001b[37m\u001b[0m \u001b[1m0s\u001b[0m 145ms/step - loss: 0.7256 - val_loss: 0.6976\n",
            "Epoch 49/50\n",
            "\u001b[1m1/1\u001b[0m \u001b[32m━━━━━━━━━━━━━━━━━━━━\u001b[0m\u001b[37m\u001b[0m \u001b[1m0s\u001b[0m 103ms/step - loss: 0.7057 - val_loss: 0.6775\n",
            "Epoch 50/50\n",
            "\u001b[1m1/1\u001b[0m \u001b[32m━━━━━━━━━━━━━━━━━━━━\u001b[0m\u001b[37m\u001b[0m \u001b[1m0s\u001b[0m 103ms/step - loss: 0.6904 - val_loss: 0.6602\n",
            "\u001b[1m1/1\u001b[0m \u001b[32m━━━━━━━━━━━━━━━━━━━━\u001b[0m\u001b[37m\u001b[0m \u001b[1m0s\u001b[0m 351ms/step\n",
            "Epoch 1/50\n",
            "\u001b[1m1/1\u001b[0m \u001b[32m━━━━━━━━━━━━━━━━━━━━\u001b[0m\u001b[37m\u001b[0m \u001b[1m5s\u001b[0m 5s/step - loss: 2.3412 - val_loss: 2.2273\n",
            "Epoch 2/50\n",
            "\u001b[1m1/1\u001b[0m \u001b[32m━━━━━━━━━━━━━━━━━━━━\u001b[0m\u001b[37m\u001b[0m \u001b[1m0s\u001b[0m 108ms/step - loss: 2.2704 - val_loss: 2.1583\n",
            "Epoch 3/50\n",
            "\u001b[1m1/1\u001b[0m \u001b[32m━━━━━━━━━━━━━━━━━━━━\u001b[0m\u001b[37m\u001b[0m \u001b[1m0s\u001b[0m 97ms/step - loss: 2.2035 - val_loss: 2.0907\n",
            "Epoch 4/50\n",
            "\u001b[1m1/1\u001b[0m \u001b[32m━━━━━━━━━━━━━━━━━━━━\u001b[0m\u001b[37m\u001b[0m \u001b[1m0s\u001b[0m 144ms/step - loss: 2.1259 - val_loss: 2.0246\n",
            "Epoch 5/50\n",
            "\u001b[1m1/1\u001b[0m \u001b[32m━━━━━━━━━━━━━━━━━━━━\u001b[0m\u001b[37m\u001b[0m \u001b[1m0s\u001b[0m 150ms/step - loss: 2.0604 - val_loss: 1.9602\n",
            "Epoch 6/50\n",
            "\u001b[1m1/1\u001b[0m \u001b[32m━━━━━━━━━━━━━━━━━━━━\u001b[0m\u001b[37m\u001b[0m \u001b[1m0s\u001b[0m 99ms/step - loss: 1.9877 - val_loss: 1.8978\n",
            "Epoch 7/50\n",
            "\u001b[1m1/1\u001b[0m \u001b[32m━━━━━━━━━━━━━━━━━━━━\u001b[0m\u001b[37m\u001b[0m \u001b[1m0s\u001b[0m 98ms/step - loss: 1.9210 - val_loss: 1.8380\n",
            "Epoch 8/50\n",
            "\u001b[1m1/1\u001b[0m \u001b[32m━━━━━━━━━━━━━━━━━━━━\u001b[0m\u001b[37m\u001b[0m \u001b[1m0s\u001b[0m 101ms/step - loss: 1.8558 - val_loss: 1.7817\n",
            "Epoch 9/50\n",
            "\u001b[1m1/1\u001b[0m \u001b[32m━━━━━━━━━━━━━━━━━━━━\u001b[0m\u001b[37m\u001b[0m \u001b[1m0s\u001b[0m 144ms/step - loss: 1.8045 - val_loss: 1.7298\n",
            "Epoch 10/50\n",
            "\u001b[1m1/1\u001b[0m \u001b[32m━━━━━━━━━━━━━━━━━━━━\u001b[0m\u001b[37m\u001b[0m \u001b[1m0s\u001b[0m 136ms/step - loss: 1.7470 - val_loss: 1.6836\n",
            "Epoch 11/50\n",
            "\u001b[1m1/1\u001b[0m \u001b[32m━━━━━━━━━━━━━━━━━━━━\u001b[0m\u001b[37m\u001b[0m \u001b[1m0s\u001b[0m 142ms/step - loss: 1.7033 - val_loss: 1.6441\n",
            "Epoch 12/50\n",
            "\u001b[1m1/1\u001b[0m \u001b[32m━━━━━━━━━━━━━━━━━━━━\u001b[0m\u001b[37m\u001b[0m \u001b[1m0s\u001b[0m 102ms/step - loss: 1.6674 - val_loss: 1.6112\n",
            "Epoch 13/50\n",
            "\u001b[1m1/1\u001b[0m \u001b[32m━━━━━━━━━━━━━━━━━━━━\u001b[0m\u001b[37m\u001b[0m \u001b[1m0s\u001b[0m 110ms/step - loss: 1.6377 - val_loss: 1.5826\n",
            "Epoch 14/50\n",
            "\u001b[1m1/1\u001b[0m \u001b[32m━━━━━━━━━━━━━━━━━━━━\u001b[0m\u001b[37m\u001b[0m \u001b[1m0s\u001b[0m 110ms/step - loss: 1.6062 - val_loss: 1.5555\n",
            "Epoch 15/50\n",
            "\u001b[1m1/1\u001b[0m \u001b[32m━━━━━━━━━━━━━━━━━━━━\u001b[0m\u001b[37m\u001b[0m \u001b[1m0s\u001b[0m 97ms/step - loss: 1.5911 - val_loss: 1.5255\n",
            "Epoch 16/50\n",
            "\u001b[1m1/1\u001b[0m \u001b[32m━━━━━━━━━━━━━━━━━━━━\u001b[0m\u001b[37m\u001b[0m \u001b[1m0s\u001b[0m 99ms/step - loss: 1.5560 - val_loss: 1.4928\n",
            "Epoch 17/50\n",
            "\u001b[1m1/1\u001b[0m \u001b[32m━━━━━━━━━━━━━━━━━━━━\u001b[0m\u001b[37m\u001b[0m \u001b[1m0s\u001b[0m 143ms/step - loss: 1.5317 - val_loss: 1.4586\n",
            "Epoch 18/50\n",
            "\u001b[1m1/1\u001b[0m \u001b[32m━━━━━━━━━━━━━━━━━━━━\u001b[0m\u001b[37m\u001b[0m \u001b[1m0s\u001b[0m 99ms/step - loss: 1.4790 - val_loss: 1.4249\n",
            "Epoch 19/50\n",
            "\u001b[1m1/1\u001b[0m \u001b[32m━━━━━━━━━━━━━━━━━━━━\u001b[0m\u001b[37m\u001b[0m \u001b[1m0s\u001b[0m 101ms/step - loss: 1.4439 - val_loss: 1.3927\n",
            "Epoch 20/50\n",
            "\u001b[1m1/1\u001b[0m \u001b[32m━━━━━━━━━━━━━━━━━━━━\u001b[0m\u001b[37m\u001b[0m \u001b[1m0s\u001b[0m 139ms/step - loss: 1.4185 - val_loss: 1.3625\n",
            "Epoch 21/50\n",
            "\u001b[1m1/1\u001b[0m \u001b[32m━━━━━━━━━━━━━━━━━━━━\u001b[0m\u001b[37m\u001b[0m \u001b[1m0s\u001b[0m 105ms/step - loss: 1.3839 - val_loss: 1.3340\n",
            "Epoch 22/50\n",
            "\u001b[1m1/1\u001b[0m \u001b[32m━━━━━━━━━━━━━━━━━━━━\u001b[0m\u001b[37m\u001b[0m \u001b[1m0s\u001b[0m 110ms/step - loss: 1.3562 - val_loss: 1.3067\n",
            "Epoch 23/50\n",
            "\u001b[1m1/1\u001b[0m \u001b[32m━━━━━━━━━━━━━━━━━━━━\u001b[0m\u001b[37m\u001b[0m \u001b[1m0s\u001b[0m 115ms/step - loss: 1.3251 - val_loss: 1.2804\n",
            "Epoch 24/50\n",
            "\u001b[1m1/1\u001b[0m \u001b[32m━━━━━━━━━━━━━━━━━━━━\u001b[0m\u001b[37m\u001b[0m \u001b[1m0s\u001b[0m 132ms/step - loss: 1.2941 - val_loss: 1.2547\n",
            "Epoch 25/50\n",
            "\u001b[1m1/1\u001b[0m \u001b[32m━━━━━━━━━━━━━━━━━━━━\u001b[0m\u001b[37m\u001b[0m \u001b[1m0s\u001b[0m 101ms/step - loss: 1.2701 - val_loss: 1.2293\n",
            "Epoch 26/50\n",
            "\u001b[1m1/1\u001b[0m \u001b[32m━━━━━━━━━━━━━━━━━━━━\u001b[0m\u001b[37m\u001b[0m \u001b[1m0s\u001b[0m 102ms/step - loss: 1.2537 - val_loss: 1.2042\n",
            "Epoch 27/50\n",
            "\u001b[1m1/1\u001b[0m \u001b[32m━━━━━━━━━━━━━━━━━━━━\u001b[0m\u001b[37m\u001b[0m \u001b[1m0s\u001b[0m 144ms/step - loss: 1.2232 - val_loss: 1.1793\n",
            "Epoch 28/50\n",
            "\u001b[1m1/1\u001b[0m \u001b[32m━━━━━━━━━━━━━━━━━━━━\u001b[0m\u001b[37m\u001b[0m \u001b[1m0s\u001b[0m 100ms/step - loss: 1.2026 - val_loss: 1.1544\n",
            "Epoch 29/50\n",
            "\u001b[1m1/1\u001b[0m \u001b[32m━━━━━━━━━━━━━━━━━━━━\u001b[0m\u001b[37m\u001b[0m \u001b[1m0s\u001b[0m 100ms/step - loss: 1.1794 - val_loss: 1.1298\n",
            "Epoch 30/50\n",
            "\u001b[1m1/1\u001b[0m \u001b[32m━━━━━━━━━━━━━━━━━━━━\u001b[0m\u001b[37m\u001b[0m \u001b[1m0s\u001b[0m 151ms/step - loss: 1.1478 - val_loss: 1.1056\n",
            "Epoch 31/50\n",
            "\u001b[1m1/1\u001b[0m \u001b[32m━━━━━━━━━━━━━━━━━━━━\u001b[0m\u001b[37m\u001b[0m \u001b[1m0s\u001b[0m 145ms/step - loss: 1.1214 - val_loss: 1.0818\n",
            "Epoch 32/50\n",
            "\u001b[1m1/1\u001b[0m \u001b[32m━━━━━━━━━━━━━━━━━━━━\u001b[0m\u001b[37m\u001b[0m \u001b[1m0s\u001b[0m 101ms/step - loss: 1.1058 - val_loss: 1.0587\n",
            "Epoch 33/50\n",
            "\u001b[1m1/1\u001b[0m \u001b[32m━━━━━━━━━━━━━━━━━━━━\u001b[0m\u001b[37m\u001b[0m \u001b[1m0s\u001b[0m 103ms/step - loss: 1.0794 - val_loss: 1.0363\n",
            "Epoch 34/50\n",
            "\u001b[1m1/1\u001b[0m \u001b[32m━━━━━━━━━━━━━━━━━━━━\u001b[0m\u001b[37m\u001b[0m \u001b[1m0s\u001b[0m 142ms/step - loss: 1.0529 - val_loss: 1.0144\n",
            "Epoch 35/50\n",
            "\u001b[1m1/1\u001b[0m \u001b[32m━━━━━━━━━━━━━━━━━━━━\u001b[0m\u001b[37m\u001b[0m \u001b[1m0s\u001b[0m 137ms/step - loss: 1.0313 - val_loss: 0.9933\n",
            "Epoch 36/50\n",
            "\u001b[1m1/1\u001b[0m \u001b[32m━━━━━━━━━━━━━━━━━━━━\u001b[0m\u001b[37m\u001b[0m \u001b[1m0s\u001b[0m 98ms/step - loss: 1.0074 - val_loss: 0.9727\n",
            "Epoch 37/50\n",
            "\u001b[1m1/1\u001b[0m \u001b[32m━━━━━━━━━━━━━━━━━━━━\u001b[0m\u001b[37m\u001b[0m \u001b[1m0s\u001b[0m 142ms/step - loss: 0.9847 - val_loss: 0.9527\n",
            "Epoch 38/50\n",
            "\u001b[1m1/1\u001b[0m \u001b[32m━━━━━━━━━━━━━━━━━━━━\u001b[0m\u001b[37m\u001b[0m \u001b[1m0s\u001b[0m 137ms/step - loss: 0.9768 - val_loss: 0.9331\n",
            "Epoch 39/50\n",
            "\u001b[1m1/1\u001b[0m \u001b[32m━━━━━━━━━━━━━━━━━━━━\u001b[0m\u001b[37m\u001b[0m \u001b[1m0s\u001b[0m 156ms/step - loss: 0.9428 - val_loss: 0.9140\n",
            "Epoch 40/50\n",
            "\u001b[1m1/1\u001b[0m \u001b[32m━━━━━━━━━━━━━━━━━━━━\u001b[0m\u001b[37m\u001b[0m \u001b[1m0s\u001b[0m 104ms/step - loss: 0.9331 - val_loss: 0.8951\n",
            "Epoch 41/50\n",
            "\u001b[1m1/1\u001b[0m \u001b[32m━━━━━━━━━━━━━━━━━━━━\u001b[0m\u001b[37m\u001b[0m \u001b[1m0s\u001b[0m 139ms/step - loss: 0.9113 - val_loss: 0.8766\n",
            "Epoch 42/50\n",
            "\u001b[1m1/1\u001b[0m \u001b[32m━━━━━━━━━━━━━━━━━━━━\u001b[0m\u001b[37m\u001b[0m \u001b[1m0s\u001b[0m 148ms/step - loss: 0.8955 - val_loss: 0.8586\n",
            "Epoch 43/50\n",
            "\u001b[1m1/1\u001b[0m \u001b[32m━━━━━━━━━━━━━━━━━━━━\u001b[0m\u001b[37m\u001b[0m \u001b[1m0s\u001b[0m 138ms/step - loss: 0.8802 - val_loss: 0.8408\n",
            "Epoch 44/50\n",
            "\u001b[1m1/1\u001b[0m \u001b[32m━━━━━━━━━━━━━━━━━━━━\u001b[0m\u001b[37m\u001b[0m \u001b[1m0s\u001b[0m 135ms/step - loss: 0.8570 - val_loss: 0.8234\n",
            "Epoch 45/50\n",
            "\u001b[1m1/1\u001b[0m \u001b[32m━━━━━━━━━━━━━━━━━━━━\u001b[0m\u001b[37m\u001b[0m \u001b[1m0s\u001b[0m 151ms/step - loss: 0.8409 - val_loss: 0.8066\n",
            "Epoch 46/50\n",
            "\u001b[1m1/1\u001b[0m \u001b[32m━━━━━━━━━━━━━━━━━━━━\u001b[0m\u001b[37m\u001b[0m \u001b[1m0s\u001b[0m 172ms/step - loss: 0.8262 - val_loss: 0.7902\n",
            "Epoch 47/50\n",
            "\u001b[1m1/1\u001b[0m \u001b[32m━━━━━━━━━━━━━━━━━━━━\u001b[0m\u001b[37m\u001b[0m \u001b[1m0s\u001b[0m 101ms/step - loss: 0.8096 - val_loss: 0.7743\n",
            "Epoch 48/50\n",
            "\u001b[1m1/1\u001b[0m \u001b[32m━━━━━━━━━━━━━━━━━━━━\u001b[0m\u001b[37m\u001b[0m \u001b[1m0s\u001b[0m 101ms/step - loss: 0.7907 - val_loss: 0.7590\n",
            "Epoch 49/50\n",
            "\u001b[1m1/1\u001b[0m \u001b[32m━━━━━━━━━━━━━━━━━━━━\u001b[0m\u001b[37m\u001b[0m \u001b[1m0s\u001b[0m 140ms/step - loss: 0.7844 - val_loss: 0.7441\n",
            "Epoch 50/50\n",
            "\u001b[1m1/1\u001b[0m \u001b[32m━━━━━━━━━━━━━━━━━━━━\u001b[0m\u001b[37m\u001b[0m \u001b[1m0s\u001b[0m 258ms/step - loss: 0.7637 - val_loss: 0.7295\n",
            "\u001b[1m1/1\u001b[0m \u001b[32m━━━━━━━━━━━━━━━━━━━━\u001b[0m\u001b[37m\u001b[0m \u001b[1m0s\u001b[0m 326ms/step\n",
            "Predizione della prossima estrazione: [1 1 1 1 1]\n"
          ]
        }
      ]
    },
    {
      "cell_type": "markdown",
      "source": [
        "Previsione e salvataggio in CSV"
      ],
      "metadata": {
        "id": "vN5JOXpoQ9EI"
      }
    },
    {
      "cell_type": "code",
      "source": [
        "import numpy as np\n",
        "import pandas as pd\n",
        "\n",
        "# Predizione della prossima estrazione\n",
        "ultima_sequenza = X[-1].reshape(1, X.shape[1], X.shape[2])\n",
        "predizione = modello.predict(ultima_sequenza)\n",
        "\n",
        "# Denormalizza la predizione per riportare i valori tra 1 e 90\n",
        "predizione_denorm = scaler.inverse_transform(predizione)\n",
        "\n",
        "# Arrotonda e limita i valori tra 1 e 90\n",
        "def trasforma_predizione(predizione_denorm):\n",
        "    predizione_arrotondata = np.round(predizione_denorm).astype(int)  # Arrotonda e converte in int\n",
        "    predizione_arrotondata = np.clip(predizione_arrotondata, 1, 90)  # Assicura i numeri validi\n",
        "    return predizione_arrotondata\n",
        "\n",
        "# Applica la trasformazione\n",
        "predizione_interi = trasforma_predizione(predizione_denorm)\n",
        "\n",
        "# Controllo prima di salvare\n",
        "print(f\"Predizione della prossima estrazione: {predizione_interi.flatten()}\")\n",
        "\n",
        "# Creazione del DataFrame con il formato corretto\n",
        "df_predizione = pd.DataFrame(predizione_interi, columns=[\"Num1\", \"Num2\", \"Num3\", \"Num4\", \"Num5\"])\n",
        "\n",
        "# Salvataggio corretto in CSV\n",
        "csv_path = \"/content/prossima_estrazione.csv\"\n",
        "df_predizione.to_csv(csv_path, index=False, header=True)\n",
        "\n",
        "print(f\"File CSV salvato correttamente in {csv_path}\")\n",
        "\n"
      ],
      "metadata": {
        "id": "SUs7OtVPQ_ks",
        "outputId": "78f5f113-122b-48f8-933c-77bc71e3d71b",
        "colab": {
          "base_uri": "https://localhost:8080/"
        }
      },
      "execution_count": 79,
      "outputs": [
        {
          "output_type": "stream",
          "name": "stdout",
          "text": [
            "\u001b[1m1/1\u001b[0m \u001b[32m━━━━━━━━━━━━━━━━━━━━\u001b[0m\u001b[37m\u001b[0m \u001b[1m0s\u001b[0m 40ms/step\n",
            "Predizione della prossima estrazione: [25 37 49  5 73]\n",
            "File CSV salvato correttamente in /content/prossima_estrazione.csv\n"
          ]
        }
      ]
    },
    {
      "cell_type": "code",
      "source": [
        "\n",
        "import pandas as pd\n",
        "import datetime\n",
        "import zipfile\n",
        "\n",
        "file_path = '/content/it-superenalotto-past-draws-archive.zip'\n",
        "\n",
        "def carica_database(file_path):\n",
        "    # Estrai il file .xls dal file .zip\n",
        "    with zipfile.ZipFile(file_path, 'r') as zip_ref:\n",
        "        xls_file = zip_ref.namelist()[0]  # Ottieni il nome del file .xls all'interno dello zip\n",
        "        with zip_ref.open(xls_file) as file:\n",
        "            # Leggi il file Excel usando il file estratto\n",
        "            df = pd.read_excel(file, engine='xlrd', skiprows=1)\n",
        "    # Prende solo numeri e rimuove colonne vuote\n",
        "    numeri_estratti = df.select_dtypes(include='number').dropna(axis=1, how='all')\n",
        "\n",
        "    # Usa solo le ultime 50 estrazioni 🔥\n",
        "    numeri_estratti = numeri_estratti.tail(50)\n",
        "    return numeri_estratti\n",
        "\n",
        "def calcola_frequenze(df):\n",
        "    frequenze = df.stack().value_counts()\n",
        "    return frequenze.head(5).index.tolist()\n",
        "\n",
        "def calcola_ritardatari(df):\n",
        "    numeri_totali = set(range(1, 91))\n",
        "    ultime_uscite = {}\n",
        "\n",
        "    for numero in numeri_totali:\n",
        "        try:\n",
        "            ultima_pos = df.apply(lambda colonna: numero in colonna.values).iloc[::-1].idxmax()\n",
        "            ultime_uscite[numero] = ultima_pos\n",
        "        except:\n",
        "            ultime_uscite[numero] = -1\n",
        "\n",
        "    ritardatari = sorted(ultime_uscite, key=ultime_uscite.get, reverse=True)[:5]\n",
        "    return ritardatari\n",
        "\n",
        "def somma_90(previsione):\n",
        "    somma = (previsione[0] + previsione[1]) % 90\n",
        "    if somma == 0:\n",
        "        somma = 90\n",
        "    return somma\n",
        "\n",
        "# Esegui tutto\n",
        "df = carica_database(file_path)\n",
        "numeri_frequenti = calcola_frequenze(df)\n",
        "numeri_ritardatari = calcola_ritardatari(df)\n",
        "previsione = numeri_frequenti + numeri_ritardatari\n",
        "somma = somma_90(previsione)\n",
        "\n",
        "print(f\"Data aggiornamento: {datetime.date.today()}\")\n",
        "print(\"Numeri più frequenti:\", numeri_frequenti)\n",
        "print(\"Numeri ritardatari:\", numeri_ritardatari)\n",
        "print(\"Previsione Finale:\", previsione)\n",
        "print(\"🔥 Somma 90:\", somma)\n",
        "\n"
      ],
      "metadata": {
        "colab": {
          "base_uri": "https://localhost:8080/"
        },
        "id": "GOqNKLh13XVe",
        "outputId": "dcdd0610-775f-4758-b31d-a7c04d2b5830"
      },
      "execution_count": 80,
      "outputs": [
        {
          "output_type": "stream",
          "name": "stdout",
          "text": [
            "*** No CODEPAGE record, no encoding_override: will use 'iso-8859-1'\n",
            "Data aggiornamento: 2025-03-10\n",
            "Numeri più frequenti: [72.0, 41.0, 40.0, 77.0, 83.0]\n",
            "Numeri ritardatari: [1, 6, 8, 9, 13]\n",
            "Previsione Finale: [72.0, 41.0, 40.0, 77.0, 83.0, 1, 6, 8, 9, 13]\n",
            "🔥 Somma 90: 23.0\n"
          ]
        }
      ]
    },
    {
      "cell_type": "markdown",
      "source": [],
      "metadata": {
        "id": "1KGV-7aJYOu1"
      }
    },
    {
      "cell_type": "markdown",
      "source": [
        "Previsione Finale\n"
      ],
      "metadata": {
        "id": "ke-VWxBXV-Dy"
      }
    },
    {
      "cell_type": "code",
      "source": [
        "import pandas as pd\n",
        "import numpy as np\n",
        "\n",
        "# Caricamento delle ultime 10 estrazioni\n",
        "file_path = '/content/it-superenalotto-past-draws-archive.zip'\n",
        "df = carica_database(file_path)  # Funzione che abbiamo già definito\n",
        "ultime_estrazioni = df.tail(200).values  # Prendiamo solo i valori numerici\n",
        "\n",
        "# Previsioni ottenute\n",
        "previsione_ml = [26, 36, 57, 70, 90]  # Sostituisci con la tua previsione ML\n",
        "top_numeri_stat = [72, 41, 40, 77, 83, 1, 6, 8, 9, 13]  # Previsione statistica\n",
        "\n",
        "# Funzione per contare i match tra previsione e ultime estrazioni\n",
        "def conta_match(previsione, estrazioni):\n",
        "    match_per_estrazione = [len(set(previsione) & set(estr)) for estr in estrazioni]\n",
        "    totale_match = sum(match_per_estrazione)\n",
        "    return totale_match, match_per_estrazione\n",
        "\n",
        "# Confronto tra previsioni e ultime estrazioni\n",
        "match_ml, dettagli_ml = conta_match(previsione_ml, ultime_estrazioni)\n",
        "match_stat, dettagli_stat = conta_match(top_numeri_stat, ultime_estrazioni)\n",
        "\n",
        "# Analisi frequenze\n",
        "frequenze = df.stack().value_counts().head(15)  # Prendi i 15 numeri più frequenti\n",
        "\n",
        "# Output risultati\n",
        "print(f\"🎯 Confronto con le ultime 10 estrazioni:\")\n",
        "print(f\"✔️ Match con ML: {match_ml} numeri trovati\")\n",
        "print(f\"✔️ Match con Statistica: {match_stat} numeri trovati\")\n",
        "print(\"\\n🔍 Dettaglio delle corrispondenze per ogni estrazione:\")\n",
        "print(f\"ML: {dettagli_ml}\")\n",
        "print(f\"Statistica: {dettagli_stat}\")\n",
        "print(\"\\n🔥 Numeri più frequenti nelle ultime estrazioni:\")\n",
        "print(frequenze)\n",
        "\n",
        "# Suggerimento per la prossima previsione\n",
        "suggeriti = set(frequenze.index[:5]) | set(top_numeri_stat[:5])  # Unione dei top numeri\n",
        "print(\"\\n📌 Numeri suggeriti per la prossima estrazione:\")\n",
        "print(suggeriti)\n",
        "\n"
      ],
      "metadata": {
        "id": "XAB4A51zV_7O",
        "outputId": "7e1f045e-0aaf-437c-e5d0-c161070edf28",
        "colab": {
          "base_uri": "https://localhost:8080/"
        }
      },
      "execution_count": 81,
      "outputs": [
        {
          "output_type": "stream",
          "name": "stdout",
          "text": [
            "*** No CODEPAGE record, no encoding_override: will use 'iso-8859-1'\n",
            "🎯 Confronto con le ultime 10 estrazioni:\n",
            "✔️ Match con ML: 7 numeri trovati\n",
            "✔️ Match con Statistica: 35 numeri trovati\n",
            "\n",
            "🔍 Dettaglio delle corrispondenze per ogni estrazione:\n",
            "ML: [0, 0, 0, 1, 0, 0, 1, 0, 1, 0, 0, 0, 0, 0, 0, 0, 0, 1, 0, 0, 0, 1, 0, 0, 0, 0, 0, 0, 0, 1, 0, 0, 0, 0, 1, 0, 0, 0, 0, 0]\n",
            "Statistica: [0, 0, 1, 0, 1, 3, 0, 1, 1, 1, 1, 1, 0, 2, 1, 1, 0, 1, 0, 3, 3, 0, 1, 1, 2, 1, 0, 0, 1, 0, 1, 1, 1, 1, 1, 1, 0, 1, 0, 1]\n",
            "\n",
            "🔥 Numeri più frequenti nelle ultime estrazioni:\n",
            "72.0    9\n",
            "41.0    6\n",
            "40.0    6\n",
            "77.0    6\n",
            "83.0    5\n",
            "29.0    5\n",
            "63.0    5\n",
            "85.0    5\n",
            "33.0    4\n",
            "52.0    4\n",
            "46.0    4\n",
            "30.0    4\n",
            "89.0    4\n",
            "86.0    4\n",
            "49.0    4\n",
            "Name: count, dtype: int64\n",
            "\n",
            "📌 Numeri suggeriti per la prossima estrazione:\n",
            "{72.0, 41.0, 40.0, 77.0, 83.0}\n"
          ]
        }
      ]
    },
    {
      "cell_type": "markdown",
      "source": [],
      "metadata": {
        "id": "PTKiL26PWlVs"
      }
    },
    {
      "cell_type": "code",
      "source": [
        "import numpy as np\n",
        "\n",
        "# Funzione migliorata per preparare i dati (controllo dei NaN)\n",
        "def prepara_dati(df_cleaned, sequenza_lenght=5):\n",
        "    sequenze = []\n",
        "    target = []\n",
        "\n",
        "    for i in range(len(df_cleaned) - sequenza_lenght):\n",
        "        # Estrazione dei numeri per la sequenza\n",
        "        sequenza = df_cleaned.iloc[i:i + sequenza_lenght].values.flatten()\n",
        "\n",
        "        # Se la sequenza contiene NaN, la scartiamo\n",
        "        if np.any(np.isnan(sequenza)):\n",
        "            continue\n",
        "\n",
        "        sequenze.append(sequenza)\n",
        "        target.append(df_cleaned.iloc[i + sequenza_lenght].values.flatten())\n",
        "\n",
        "    X = np.array(sequenze)\n",
        "    y = np.array(target)\n",
        "\n",
        "    return X, y\n",
        "\n",
        "# Prepara i dati\n",
        "X, y = prepara_dati(df_cleaned)\n",
        "\n",
        "# Verifica la forma dei dati\n",
        "print(f\"Forma di X: {X.shape}\")\n",
        "print(f\"Forma di y: {y.shape}\")\n"
      ],
      "metadata": {
        "id": "wkS8_GdaNEes",
        "outputId": "b7a38857-a486-4718-c238-e05bb0a71720",
        "colab": {
          "base_uri": "https://localhost:8080/"
        }
      },
      "execution_count": 48,
      "outputs": [
        {
          "output_type": "stream",
          "name": "stdout",
          "text": [
            "Forma di X: (33, 25)\n",
            "Forma di y: (33, 5)\n"
          ]
        }
      ]
    },
    {
      "cell_type": "code",
      "source": [],
      "metadata": {
        "id": "KVpbyqlfMO5B"
      },
      "execution_count": null,
      "outputs": []
    },
    {
      "cell_type": "markdown",
      "source": [
        "Terza Cella: Prepara i dati per l'allenamento"
      ],
      "metadata": {
        "id": "b9lin5HxYQ6D"
      }
    },
    {
      "cell_type": "code",
      "source": [
        "import numpy as np\n",
        "\n",
        "# Funzione per preparare i dati: crea sequenze temporali\n",
        "def prepara_dati(df_cleaned, sequenza_lenght=5):\n",
        "    sequenze = []\n",
        "    target = []\n",
        "\n",
        "    # Cicliamo per creare le sequenze\n",
        "    for i in range(len(df_cleaned) - sequenza_lenght):\n",
        "        sequenza = df_cleaned.iloc[i:i + sequenza_lenght].values.flatten()\n",
        "        sequenze.append(sequenza)\n",
        "        target.append(df_cleaned.iloc[i + sequenza_lenght].values.flatten())\n",
        "\n",
        "    # Convertiamo in array numpy\n",
        "    X = np.array(sequenze)\n",
        "    y = np.array(target)\n",
        "\n",
        "    return X, y\n",
        "\n",
        "# Prepara i dati per l'allenamento\n",
        "X, y = prepara_dati(df_cleaned)\n",
        "\n",
        "# Mostra la forma di X e y per verificarne la corretta preparazione\n",
        "print(f\"Forma di X: {X.shape}\")\n",
        "print(f\"Forma di y: {y.shape}\")\n"
      ],
      "metadata": {
        "id": "o_JjqVnmMXXC",
        "outputId": "81a58cff-ad0b-461a-985e-2a8e4cb7ed8d",
        "colab": {
          "base_uri": "https://localhost:8080/"
        }
      },
      "execution_count": 49,
      "outputs": [
        {
          "output_type": "stream",
          "name": "stdout",
          "text": [
            "Forma di X: (35, 25)\n",
            "Forma di y: (35, 5)\n"
          ]
        }
      ]
    },
    {
      "cell_type": "markdown",
      "source": [
        "Quarta Cella: Creazione e allenamento del modello"
      ],
      "metadata": {
        "id": "RkX18yi1XBhM"
      }
    },
    {
      "cell_type": "code",
      "source": [
        "from tensorflow.keras.models import Sequential\n",
        "from tensorflow.keras.layers import Dense\n",
        "from tensorflow.keras.optimizers import Adam\n",
        "\n",
        "# Creazione del modello di rete neurale\n",
        "model = Sequential()\n",
        "model.add(Dense(128, input_dim=X.shape[1], activation='relu'))  # Primo strato\n",
        "model.add(Dense(64, activation='relu'))  # Secondo strato\n",
        "model.add(Dense(y.shape[1], activation='linear'))  # Strato di uscita per predizioni numeriche\n",
        "\n",
        "# Compilazione del modello con una funzione di perdita appropriata per la regressione\n",
        "model.compile(optimizer=Adam(), loss='mean_squared_error', metrics=['accuracy'])\n",
        "\n",
        "# Allenamento del modello\n",
        "model.fit(X, y, epochs=10, batch_size=32, validation_split=0.2)\n",
        "\n",
        "# Salviamo il modello allenato per usi futuri\n",
        "model.save(\"/content/lotto_model.h5\")\n",
        "\n"
      ],
      "metadata": {
        "id": "Gi6stSJ2MizJ",
        "outputId": "10a16a2b-9fe5-4ac2-91cd-1a89d875d01d",
        "colab": {
          "base_uri": "https://localhost:8080/"
        }
      },
      "execution_count": 50,
      "outputs": [
        {
          "output_type": "stream",
          "name": "stdout",
          "text": [
            "Epoch 1/10\n"
          ]
        },
        {
          "output_type": "stream",
          "name": "stderr",
          "text": [
            "/usr/local/lib/python3.11/dist-packages/keras/src/layers/core/dense.py:87: UserWarning: Do not pass an `input_shape`/`input_dim` argument to a layer. When using Sequential models, prefer using an `Input(shape)` object as the first layer in the model instead.\n",
            "  super().__init__(activity_regularizer=activity_regularizer, **kwargs)\n"
          ]
        },
        {
          "output_type": "stream",
          "name": "stdout",
          "text": [
            "\u001b[1m1/1\u001b[0m \u001b[32m━━━━━━━━━━━━━━━━━━━━\u001b[0m\u001b[37m\u001b[0m \u001b[1m1s\u001b[0m 1s/step - accuracy: 0.0000e+00 - loss: nan - val_accuracy: 0.0000e+00 - val_loss: nan\n",
            "Epoch 2/10\n",
            "\u001b[1m1/1\u001b[0m \u001b[32m━━━━━━━━━━━━━━━━━━━━\u001b[0m\u001b[37m\u001b[0m \u001b[1m0s\u001b[0m 86ms/step - accuracy: 0.0000e+00 - loss: nan - val_accuracy: 0.0000e+00 - val_loss: nan\n",
            "Epoch 3/10\n",
            "\u001b[1m1/1\u001b[0m \u001b[32m━━━━━━━━━━━━━━━━━━━━\u001b[0m\u001b[37m\u001b[0m \u001b[1m0s\u001b[0m 142ms/step - accuracy: 0.0000e+00 - loss: nan - val_accuracy: 0.0000e+00 - val_loss: nan\n",
            "Epoch 4/10\n",
            "\u001b[1m1/1\u001b[0m \u001b[32m━━━━━━━━━━━━━━━━━━━━\u001b[0m\u001b[37m\u001b[0m \u001b[1m0s\u001b[0m 137ms/step - accuracy: 0.0000e+00 - loss: nan - val_accuracy: 0.0000e+00 - val_loss: nan\n",
            "Epoch 5/10\n",
            "\u001b[1m1/1\u001b[0m \u001b[32m━━━━━━━━━━━━━━━━━━━━\u001b[0m\u001b[37m\u001b[0m \u001b[1m0s\u001b[0m 134ms/step - accuracy: 0.0000e+00 - loss: nan - val_accuracy: 0.0000e+00 - val_loss: nan\n",
            "Epoch 6/10\n",
            "\u001b[1m1/1\u001b[0m \u001b[32m━━━━━━━━━━━━━━━━━━━━\u001b[0m\u001b[37m\u001b[0m \u001b[1m0s\u001b[0m 99ms/step - accuracy: 0.0000e+00 - loss: nan - val_accuracy: 0.0000e+00 - val_loss: nan\n",
            "Epoch 7/10\n",
            "\u001b[1m1/1\u001b[0m \u001b[32m━━━━━━━━━━━━━━━━━━━━\u001b[0m\u001b[37m\u001b[0m \u001b[1m0s\u001b[0m 90ms/step - accuracy: 0.0000e+00 - loss: nan - val_accuracy: 0.0000e+00 - val_loss: nan\n",
            "Epoch 8/10\n",
            "\u001b[1m1/1\u001b[0m \u001b[32m━━━━━━━━━━━━━━━━━━━━\u001b[0m\u001b[37m\u001b[0m \u001b[1m0s\u001b[0m 147ms/step - accuracy: 0.0000e+00 - loss: nan - val_accuracy: 0.0000e+00 - val_loss: nan\n",
            "Epoch 9/10\n",
            "\u001b[1m1/1\u001b[0m \u001b[32m━━━━━━━━━━━━━━━━━━━━\u001b[0m\u001b[37m\u001b[0m \u001b[1m0s\u001b[0m 90ms/step - accuracy: 0.0000e+00 - loss: nan - val_accuracy: 0.0000e+00 - val_loss: nan\n",
            "Epoch 10/10\n",
            "\u001b[1m1/1\u001b[0m \u001b[32m━━━━━━━━━━━━━━━━━━━━\u001b[0m\u001b[37m\u001b[0m \u001b[1m0s\u001b[0m 85ms/step - accuracy: 0.0000e+00 - loss: nan - val_accuracy: 0.0000e+00 - val_loss: nan\n"
          ]
        },
        {
          "output_type": "stream",
          "name": "stderr",
          "text": [
            "WARNING:absl:You are saving your model as an HDF5 file via `model.save()` or `keras.saving.save_model(model)`. This file format is considered legacy. We recommend using instead the native Keras format, e.g. `model.save('my_model.keras')` or `keras.saving.save_model(model, 'my_model.keras')`. \n"
          ]
        }
      ]
    },
    {
      "cell_type": "code",
      "source": [
        "# Se X è 2D, aggiungiamo una dimensione per le caratteristiche\n",
        "if len(X.shape) == 2:\n",
        "    X = np.expand_dims(X, axis=-1)  # Aggiungiamo una dimensione per le features\n",
        "\n",
        "print(X.shape)  # Ora X dovrebbe essere (n_samples, sequence_length, 1)\n",
        "\n",
        "# Creazione del modello LSTM\n",
        "modello = Sequential()\n",
        "modello.add(LSTM(units=50, return_sequences=True, input_shape=(X.shape[1], X.shape[2])))\n",
        "modello.add(LSTM(units=50))\n",
        "modello.add(Dense(units=5))  # Predizione di 5 numeri per ogni sequenza\n",
        "\n",
        "# Compilazione del modello\n",
        "modello.compile(optimizer=Adam(), loss='mean_squared_error')\n",
        "\n",
        "# Addestramento del modello\n",
        "modello.fit(X, y, epochs=10, batch_size=32)\n",
        "\n",
        "# Predizione della prossima estrazione\n",
        "predizione = modello.predict(X[-1].reshape(1, X.shape[1], X.shape[2]))  # Utilizza l'ultima sequenza per la previsione\n",
        "\n",
        "# Funzione per trasformare la previsione in numeri interi tra 1 e 90\n",
        "def trasforma_predizione(predizione):\n",
        "    predizione_arrotondata = np.round(predizione)  # Arrotonda i valori continui\n",
        "    predizione_arrotondata = np.clip(predizione_arrotondata, 1, 90)  # Limita i valori tra 1 e 90\n",
        "    return predizione_arrotondata.astype(int)  # Converte in interi\n",
        "\n",
        "# Trasforma la predizione in numeri interi da 1 a 90\n",
        "predizione_interi = trasforma_predizione(predizione)\n",
        "# Se X è 2D, aggiungiamo una dimensione per le caratteristiche\n",
        "if len(X.shape) == 2:\n",
        "    X = np.expand_dims(X, axis=-1)  # Aggiungiamo una dimensione per le features\n",
        "\n",
        "print(X.shape)  # Ora X dovrebbe essere (n_samples, sequence_length, 1)\n",
        "\n",
        "# Creazione del modello LSTM\n",
        "modello = Sequential()\n",
        "modello.add(LSTM(units=50, return_sequences=True, input_shape=(X.shape[1], X.shape[2])))\n",
        "modello.add(LSTM(units=50))\n",
        "modello.add(Dense(units=5))  # Predizione di 5 numeri per ogni sequenza\n",
        "\n",
        "# Compilazione del modello\n",
        "modello.compile(optimizer=Adam(), loss='mean_squared_error')\n",
        "\n",
        "# Addestramento del modello\n",
        "modello.fit(X, y, epochs=10, batch_size=32)\n",
        "\n",
        "# Predizione della prossima estrazione\n",
        "predizione = modello.predict(X[-1].reshape(1, X.shape[1], X.shape[2]))  # Utilizza l'ultima sequenza per la previsione\n",
        "\n",
        "# Funzione per trasformare la previsione in numeri interi tra 1 e 90\n",
        "def trasforma_predizione(predizione):\n",
        "    predizione_arrotondata = np.round(predizione)  # Arrotonda i valori continui\n",
        "    predizione_arrotondata = np.clip(predizione_arrotondata, 1, 90)  # Limita i valori tra 1 e 90\n",
        "    return predizione_arrotondata.astype(int)  # Converte in interi\n",
        "\n",
        "# Trasforma la predizione in numeri interi da 1 a 90\n",
        "predizione_interi = trasforma_predizione(predizione)\n",
        "\n",
        "print(f\"Predizione della prossima estrazione: {predizione_interi}\")"
      ],
      "metadata": {
        "id": "oHtK4zKQN0Ni",
        "outputId": "788397ca-0b8e-42e0-85eb-de1fab93f226",
        "colab": {
          "base_uri": "https://localhost:8080/"
        }
      },
      "execution_count": 51,
      "outputs": [
        {
          "output_type": "stream",
          "name": "stdout",
          "text": [
            "(35, 25, 1)\n",
            "Epoch 1/10\n"
          ]
        },
        {
          "output_type": "stream",
          "name": "stderr",
          "text": [
            "/usr/local/lib/python3.11/dist-packages/keras/src/layers/rnn/rnn.py:200: UserWarning: Do not pass an `input_shape`/`input_dim` argument to a layer. When using Sequential models, prefer using an `Input(shape)` object as the first layer in the model instead.\n",
            "  super().__init__(**kwargs)\n"
          ]
        },
        {
          "output_type": "stream",
          "name": "stdout",
          "text": [
            "\u001b[1m2/2\u001b[0m \u001b[32m━━━━━━━━━━━━━━━━━━━━\u001b[0m\u001b[37m\u001b[0m \u001b[1m4s\u001b[0m 38ms/step - loss: nan\n",
            "Epoch 2/10\n",
            "\u001b[1m2/2\u001b[0m \u001b[32m━━━━━━━━━━━━━━━━━━━━\u001b[0m\u001b[37m\u001b[0m \u001b[1m0s\u001b[0m 36ms/step - loss: nan\n",
            "Epoch 3/10\n",
            "\u001b[1m2/2\u001b[0m \u001b[32m━━━━━━━━━━━━━━━━━━━━\u001b[0m\u001b[37m\u001b[0m \u001b[1m0s\u001b[0m 37ms/step - loss: nan\n",
            "Epoch 4/10\n",
            "\u001b[1m2/2\u001b[0m \u001b[32m━━━━━━━━━━━━━━━━━━━━\u001b[0m\u001b[37m\u001b[0m \u001b[1m0s\u001b[0m 38ms/step - loss: nan \n",
            "Epoch 5/10\n",
            "\u001b[1m2/2\u001b[0m \u001b[32m━━━━━━━━━━━━━━━━━━━━\u001b[0m\u001b[37m\u001b[0m \u001b[1m0s\u001b[0m 39ms/step - loss: nan\n",
            "Epoch 6/10\n",
            "\u001b[1m2/2\u001b[0m \u001b[32m━━━━━━━━━━━━━━━━━━━━\u001b[0m\u001b[37m\u001b[0m \u001b[1m0s\u001b[0m 37ms/step - loss: nan \n",
            "Epoch 7/10\n",
            "\u001b[1m2/2\u001b[0m \u001b[32m━━━━━━━━━━━━━━━━━━━━\u001b[0m\u001b[37m\u001b[0m \u001b[1m0s\u001b[0m 38ms/step - loss: nan\n",
            "Epoch 8/10\n",
            "\u001b[1m2/2\u001b[0m \u001b[32m━━━━━━━━━━━━━━━━━━━━\u001b[0m\u001b[37m\u001b[0m \u001b[1m0s\u001b[0m 39ms/step - loss: nan\n",
            "Epoch 9/10\n",
            "\u001b[1m2/2\u001b[0m \u001b[32m━━━━━━━━━━━━━━━━━━━━\u001b[0m\u001b[37m\u001b[0m \u001b[1m0s\u001b[0m 39ms/step - loss: nan\n",
            "Epoch 10/10\n",
            "\u001b[1m2/2\u001b[0m \u001b[32m━━━━━━━━━━━━━━━━━━━━\u001b[0m\u001b[37m\u001b[0m \u001b[1m0s\u001b[0m 45ms/step - loss: nan \n"
          ]
        },
        {
          "output_type": "stream",
          "name": "stderr",
          "text": [
            "WARNING:tensorflow:5 out of the last 6 calls to <function TensorFlowTrainer.make_predict_function.<locals>.one_step_on_data_distributed at 0x79a9e5ae6fc0> triggered tf.function retracing. Tracing is expensive and the excessive number of tracings could be due to (1) creating @tf.function repeatedly in a loop, (2) passing tensors with different shapes, (3) passing Python objects instead of tensors. For (1), please define your @tf.function outside of the loop. For (2), @tf.function has reduce_retracing=True option that can avoid unnecessary retracing. For (3), please refer to https://www.tensorflow.org/guide/function#controlling_retracing and https://www.tensorflow.org/api_docs/python/tf/function for  more details.\n"
          ]
        },
        {
          "output_type": "stream",
          "name": "stdout",
          "text": [
            "\u001b[1m1/1\u001b[0m \u001b[32m━━━━━━━━━━━━━━━━━━━━\u001b[0m\u001b[37m\u001b[0m \u001b[1m0s\u001b[0m 313ms/step\n",
            "(35, 25, 1)\n",
            "Epoch 1/10\n"
          ]
        },
        {
          "output_type": "stream",
          "name": "stderr",
          "text": [
            "<ipython-input-51-eb2057967d88>:26: RuntimeWarning: invalid value encountered in cast\n",
            "  return predizione_arrotondata.astype(int)  # Converte in interi\n"
          ]
        },
        {
          "output_type": "stream",
          "name": "stdout",
          "text": [
            "\u001b[1m2/2\u001b[0m \u001b[32m━━━━━━━━━━━━━━━━━━━━\u001b[0m\u001b[37m\u001b[0m \u001b[1m3s\u001b[0m 35ms/step - loss: nan\n",
            "Epoch 2/10\n",
            "\u001b[1m2/2\u001b[0m \u001b[32m━━━━━━━━━━━━━━━━━━━━\u001b[0m\u001b[37m\u001b[0m \u001b[1m0s\u001b[0m 39ms/step - loss: nan\n",
            "Epoch 3/10\n",
            "\u001b[1m2/2\u001b[0m \u001b[32m━━━━━━━━━━━━━━━━━━━━\u001b[0m\u001b[37m\u001b[0m \u001b[1m0s\u001b[0m 37ms/step - loss: nan \n",
            "Epoch 4/10\n",
            "\u001b[1m2/2\u001b[0m \u001b[32m━━━━━━━━━━━━━━━━━━━━\u001b[0m\u001b[37m\u001b[0m \u001b[1m0s\u001b[0m 39ms/step - loss: nan \n",
            "Epoch 5/10\n",
            "\u001b[1m2/2\u001b[0m \u001b[32m━━━━━━━━━━━━━━━━━━━━\u001b[0m\u001b[37m\u001b[0m \u001b[1m0s\u001b[0m 38ms/step - loss: nan\n",
            "Epoch 6/10\n",
            "\u001b[1m2/2\u001b[0m \u001b[32m━━━━━━━━━━━━━━━━━━━━\u001b[0m\u001b[37m\u001b[0m \u001b[1m0s\u001b[0m 39ms/step - loss: nan \n",
            "Epoch 7/10\n",
            "\u001b[1m2/2\u001b[0m \u001b[32m━━━━━━━━━━━━━━━━━━━━\u001b[0m\u001b[37m\u001b[0m \u001b[1m0s\u001b[0m 38ms/step - loss: nan\n",
            "Epoch 8/10\n",
            "\u001b[1m2/2\u001b[0m \u001b[32m━━━━━━━━━━━━━━━━━━━━\u001b[0m\u001b[37m\u001b[0m \u001b[1m0s\u001b[0m 38ms/step - loss: nan\n",
            "Epoch 9/10\n",
            "\u001b[1m2/2\u001b[0m \u001b[32m━━━━━━━━━━━━━━━━━━━━\u001b[0m\u001b[37m\u001b[0m \u001b[1m0s\u001b[0m 51ms/step - loss: nan\n",
            "Epoch 10/10\n",
            "\u001b[1m2/2\u001b[0m \u001b[32m━━━━━━━━━━━━━━━━━━━━\u001b[0m\u001b[37m\u001b[0m \u001b[1m0s\u001b[0m 38ms/step - loss: nan\n"
          ]
        },
        {
          "output_type": "stream",
          "name": "stderr",
          "text": [
            "WARNING:tensorflow:6 out of the last 7 calls to <function TensorFlowTrainer.make_predict_function.<locals>.one_step_on_data_distributed at 0x79a9edacab60> triggered tf.function retracing. Tracing is expensive and the excessive number of tracings could be due to (1) creating @tf.function repeatedly in a loop, (2) passing tensors with different shapes, (3) passing Python objects instead of tensors. For (1), please define your @tf.function outside of the loop. For (2), @tf.function has reduce_retracing=True option that can avoid unnecessary retracing. For (3), please refer to https://www.tensorflow.org/guide/function#controlling_retracing and https://www.tensorflow.org/api_docs/python/tf/function for  more details.\n"
          ]
        },
        {
          "output_type": "stream",
          "name": "stdout",
          "text": [
            "\u001b[1m1/1\u001b[0m \u001b[32m━━━━━━━━━━━━━━━━━━━━\u001b[0m\u001b[37m\u001b[0m \u001b[1m0s\u001b[0m 309ms/step\n",
            "Predizione della prossima estrazione: [[-9223372036854775808 -9223372036854775808 -9223372036854775808\n",
            "  -9223372036854775808 -9223372036854775808]]\n"
          ]
        },
        {
          "output_type": "stream",
          "name": "stderr",
          "text": [
            "<ipython-input-51-eb2057967d88>:55: RuntimeWarning: invalid value encountered in cast\n",
            "  return predizione_arrotondata.astype(int)  # Converte in interi\n"
          ]
        }
      ]
    },
    {
      "cell_type": "markdown",
      "source": [
        "Quinta Cella: Fare previsioni"
      ],
      "metadata": {
        "id": "29NF5kYVXNf5"
      }
    },
    {
      "cell_type": "markdown",
      "source": [
        "noooo"
      ],
      "metadata": {
        "id": "B2aWE5ZSXW28"
      }
    },
    {
      "cell_type": "markdown",
      "source": [
        "next step"
      ],
      "metadata": {
        "id": "ti2A1-cGXij5"
      }
    },
    {
      "cell_type": "code",
      "source": [
        "# Genera una previsione (esempio semplificato)\n",
        "# La previsione si basa sui numeri più frequenti\n",
        "previsione = numeri_frequenti"
      ],
      "metadata": {
        "id": "R8LasAQU3aS2",
        "colab": {
          "base_uri": "https://localhost:8080/",
          "height": 183
        },
        "outputId": "a4959add-5777-4ba4-d9eb-f45cdf30d947"
      },
      "execution_count": null,
      "outputs": [
        {
          "output_type": "error",
          "ename": "NameError",
          "evalue": "name 'numeri_frequenti' is not defined",
          "traceback": [
            "\u001b[0;31m---------------------------------------------------------------------------\u001b[0m",
            "\u001b[0;31mNameError\u001b[0m                                 Traceback (most recent call last)",
            "\u001b[0;32m<ipython-input-122-318e02fd9b0f>\u001b[0m in \u001b[0;36m<cell line: 0>\u001b[0;34m()\u001b[0m\n\u001b[1;32m      1\u001b[0m \u001b[0;31m# Genera una previsione (esempio semplificato)\u001b[0m\u001b[0;34m\u001b[0m\u001b[0;34m\u001b[0m\u001b[0m\n\u001b[1;32m      2\u001b[0m \u001b[0;31m# La previsione si basa sui numeri più frequenti\u001b[0m\u001b[0;34m\u001b[0m\u001b[0;34m\u001b[0m\u001b[0m\n\u001b[0;32m----> 3\u001b[0;31m \u001b[0mprevisione\u001b[0m \u001b[0;34m=\u001b[0m \u001b[0mnumeri_frequenti\u001b[0m\u001b[0;34m\u001b[0m\u001b[0;34m\u001b[0m\u001b[0m\n\u001b[0m",
            "\u001b[0;31mNameError\u001b[0m: name 'numeri_frequenti' is not defined"
          ]
        }
      ]
    },
    {
      "cell_type": "code",
      "source": [
        "# Crea un DataFrame per la previsione\n",
        "previsione_df = pd.DataFrame({'Numero': previsione})\n"
      ],
      "metadata": {
        "id": "_hMO6Nnx3dKm"
      },
      "execution_count": null,
      "outputs": []
    },
    {
      "cell_type": "code",
      "source": [
        "# Salva la previsione in un file CSV\n",
        "previsione_df.to_csv('/content/previsione_lotto.csv', index=False)\n",
        "\n",
        "print(\"Previsione salvata in /content/previsione_lotto.csv\")\n",
        "\n",
        "from google.colab import files\n",
        "files.download('/content/previsione_lotto.csv')\n"
      ],
      "metadata": {
        "colab": {
          "base_uri": "https://localhost:8080/",
          "height": 35
        },
        "id": "gimKnDF-3gD1",
        "outputId": "e859db19-4ec3-446e-9f34-876731daf8cb"
      },
      "execution_count": null,
      "outputs": [
        {
          "output_type": "stream",
          "name": "stdout",
          "text": [
            "Previsione salvata in /content/previsione_lotto.csv\n"
          ]
        },
        {
          "output_type": "display_data",
          "data": {
            "text/plain": [
              "<IPython.core.display.Javascript object>"
            ],
            "application/javascript": [
              "\n",
              "    async function download(id, filename, size) {\n",
              "      if (!google.colab.kernel.accessAllowed) {\n",
              "        return;\n",
              "      }\n",
              "      const div = document.createElement('div');\n",
              "      const label = document.createElement('label');\n",
              "      label.textContent = `Downloading \"${filename}\": `;\n",
              "      div.appendChild(label);\n",
              "      const progress = document.createElement('progress');\n",
              "      progress.max = size;\n",
              "      div.appendChild(progress);\n",
              "      document.body.appendChild(div);\n",
              "\n",
              "      const buffers = [];\n",
              "      let downloaded = 0;\n",
              "\n",
              "      const channel = await google.colab.kernel.comms.open(id);\n",
              "      // Send a message to notify the kernel that we're ready.\n",
              "      channel.send({})\n",
              "\n",
              "      for await (const message of channel.messages) {\n",
              "        // Send a message to notify the kernel that we're ready.\n",
              "        channel.send({})\n",
              "        if (message.buffers) {\n",
              "          for (const buffer of message.buffers) {\n",
              "            buffers.push(buffer);\n",
              "            downloaded += buffer.byteLength;\n",
              "            progress.value = downloaded;\n",
              "          }\n",
              "        }\n",
              "      }\n",
              "      const blob = new Blob(buffers, {type: 'application/binary'});\n",
              "      const a = document.createElement('a');\n",
              "      a.href = window.URL.createObjectURL(blob);\n",
              "      a.download = filename;\n",
              "      div.appendChild(a);\n",
              "      a.click();\n",
              "      div.remove();\n",
              "    }\n",
              "  "
            ]
          },
          "metadata": {}
        },
        {
          "output_type": "display_data",
          "data": {
            "text/plain": [
              "<IPython.core.display.Javascript object>"
            ],
            "application/javascript": [
              "download(\"download_db4c86d1-f896-4b35-b8f0-c4c98b3cb7f7\", \"previsione_lotto.csv\", 30)"
            ]
          },
          "metadata": {}
        }
      ]
    }
  ],
  "metadata": {
    "colab": {
      "name": "Un benvenuto a Colaboratory",
      "provenance": [],
      "include_colab_link": true
    },
    "kernelspec": {
      "display_name": "Python 3",
      "name": "python3"
    }
  },
  "nbformat": 4,
  "nbformat_minor": 0
}